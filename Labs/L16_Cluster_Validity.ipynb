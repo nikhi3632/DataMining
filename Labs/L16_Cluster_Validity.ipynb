{
  "cells": [
    {
      "cell_type": "markdown",
      "metadata": {
        "id": "kMnuUKUo2yCJ"
      },
      "source": [
        "# CSE 572: Lab 16\n",
        "\n",
        "In this lab, you will practice measuring cluster validity with unsupervised metrics and applying clustering to a real world problem.\n",
        "\n",
        "To execute and make changes to this notebook, click File > Save a copy to save your own version in your Google Drive or Github. Read the step-by-step instructions below carefully. To execute the code, click on each cell below and press the SHIFT-ENTER keys simultaneously or by clicking the Play button. \n",
        "\n",
        "When you finish executing all code/exercises, save your notebook then download a copy (.ipynb file). Submit the following **three** things:\n",
        "1. a link to your Colab notebook,\n",
        "2. the .ipynb file, and\n",
        "3. a pdf of the executed notebook on Canvas.\n",
        "\n",
        "To generate a pdf of the notebook, click File > Print > Save as PDF."
      ]
    },
    {
      "cell_type": "markdown",
      "metadata": {
        "id": "do5WfeuO2yCK"
      },
      "source": [
        "## Scenario 🎃\n",
        "\n",
        "You have been hired by Costco to design the assorted Halloween candy mix bags that they will sell this Halloween. Since people tend to have different candy preferences (e.g., chocolate-y, fruity, sugar-y, etc.), they want you to create the mixes so there are similar types of candies in each bag and that you maximize the diversity across bags.\n",
        "\n",
        "Luckily, you have access to a [dataset collected by FiveThirtyEight](https://fivethirtyeight.com/videos/the-ultimate-halloween-candy-power-ranking/) that aggregates the feedback from more than 269,000 votes were collected from 8,371 different IP addresses. Data were collected through a survey where participants were shown two fun-sized candies and asked to click on the one they would prefer to receive. The survey results were aggregated into a table with one row per candy type. The attributes for each candy type describe the candy flavor profile (e.g., does it have chocolate? does it have caramel? is it a hard or soft candy?), the sugar percentage, the price percentage, and the win percentage (indicating the percentage of the time that the candy won in the survey matchup). \n",
        "\n",
        "Your goal is to use clustering algorithms to determine how the candies should be grouped into assorted bags (including the number of bags to create). You will create multiple clusterings and use cluster validity measures to evaluate which clustering is best. You will use your final choice of clustering to determine the groups of candy to create for each of the candy mix bags."
      ]
    },
    {
      "cell_type": "markdown",
      "metadata": {
        "id": "p4Llo6Ea2yCL"
      },
      "source": [
        "### Load the dataset"
      ]
    },
    {
      "cell_type": "code",
      "execution_count": null,
      "metadata": {
        "id": "BFwU7ynW2yCL"
      },
      "outputs": [],
      "source": [
        "import pandas as pd\n",
        "df = pd.read_csv('https://query.data.world/s/r466lc6rgojrhdzdqchnfhxqvifz7m')"
      ]
    },
    {
      "cell_type": "code",
      "execution_count": null,
      "metadata": {
        "id": "_6ppdOZV2yCL",
        "colab": {
          "base_uri": "https://localhost:8080/",
          "height": 363
        },
        "outputId": "408a476b-7450-4adf-a916-af82a7be0cf9"
      },
      "outputs": [
        {
          "output_type": "execute_result",
          "data": {
            "text/plain": [
              "        competitorname  chocolate  fruity  caramel  peanutyalmondy  nougat  \\\n",
              "71         Sugar Daddy          0       0        1               0       0   \n",
              "57   Root Beer Barrels          0       0        0               0       0   \n",
              "26          Jawbusters          0       1        0               0       0   \n",
              "7   Boston Baked Beans          0       0        0               1       0   \n",
              "70        Sugar Babies          0       0        1               0       0   \n",
              "41               Nerds          0       1        0               0       0   \n",
              "34          Mike & Ike          0       1        0               0       0   \n",
              "15         Fruit Chews          0       1        0               0       0   \n",
              "29         Laffy Taffy          0       1        0               0       0   \n",
              "79                Twix          1       0        1               0       0   \n",
              "\n",
              "    crispedricewafer  hard  bar  pluribus  sugarpercent  pricepercent  \\\n",
              "71                 0     0    0         0         0.418         0.325   \n",
              "57                 0     1    0         1         0.732         0.069   \n",
              "26                 0     1    0         1         0.093         0.511   \n",
              "7                  0     0    0         1         0.313         0.511   \n",
              "70                 0     0    0         1         0.965         0.767   \n",
              "41                 0     1    0         1         0.848         0.325   \n",
              "34                 0     0    0         1         0.872         0.325   \n",
              "15                 0     0    0         1         0.127         0.034   \n",
              "29                 0     0    0         0         0.220         0.116   \n",
              "79                 1     0    1         0         0.546         0.906   \n",
              "\n",
              "    winpercent  \n",
              "71   32.230995  \n",
              "57   29.703691  \n",
              "26   28.127439  \n",
              "7    23.417824  \n",
              "70   33.437550  \n",
              "41   55.354046  \n",
              "34   46.411716  \n",
              "15   43.088924  \n",
              "29   41.389557  \n",
              "79   81.642914  "
            ],
            "text/html": [
              "\n",
              "  <div id=\"df-97a5c5fc-c1da-444b-ade5-f901984a8d67\">\n",
              "    <div class=\"colab-df-container\">\n",
              "      <div>\n",
              "<style scoped>\n",
              "    .dataframe tbody tr th:only-of-type {\n",
              "        vertical-align: middle;\n",
              "    }\n",
              "\n",
              "    .dataframe tbody tr th {\n",
              "        vertical-align: top;\n",
              "    }\n",
              "\n",
              "    .dataframe thead th {\n",
              "        text-align: right;\n",
              "    }\n",
              "</style>\n",
              "<table border=\"1\" class=\"dataframe\">\n",
              "  <thead>\n",
              "    <tr style=\"text-align: right;\">\n",
              "      <th></th>\n",
              "      <th>competitorname</th>\n",
              "      <th>chocolate</th>\n",
              "      <th>fruity</th>\n",
              "      <th>caramel</th>\n",
              "      <th>peanutyalmondy</th>\n",
              "      <th>nougat</th>\n",
              "      <th>crispedricewafer</th>\n",
              "      <th>hard</th>\n",
              "      <th>bar</th>\n",
              "      <th>pluribus</th>\n",
              "      <th>sugarpercent</th>\n",
              "      <th>pricepercent</th>\n",
              "      <th>winpercent</th>\n",
              "    </tr>\n",
              "  </thead>\n",
              "  <tbody>\n",
              "    <tr>\n",
              "      <th>71</th>\n",
              "      <td>Sugar Daddy</td>\n",
              "      <td>0</td>\n",
              "      <td>0</td>\n",
              "      <td>1</td>\n",
              "      <td>0</td>\n",
              "      <td>0</td>\n",
              "      <td>0</td>\n",
              "      <td>0</td>\n",
              "      <td>0</td>\n",
              "      <td>0</td>\n",
              "      <td>0.418</td>\n",
              "      <td>0.325</td>\n",
              "      <td>32.230995</td>\n",
              "    </tr>\n",
              "    <tr>\n",
              "      <th>57</th>\n",
              "      <td>Root Beer Barrels</td>\n",
              "      <td>0</td>\n",
              "      <td>0</td>\n",
              "      <td>0</td>\n",
              "      <td>0</td>\n",
              "      <td>0</td>\n",
              "      <td>0</td>\n",
              "      <td>1</td>\n",
              "      <td>0</td>\n",
              "      <td>1</td>\n",
              "      <td>0.732</td>\n",
              "      <td>0.069</td>\n",
              "      <td>29.703691</td>\n",
              "    </tr>\n",
              "    <tr>\n",
              "      <th>26</th>\n",
              "      <td>Jawbusters</td>\n",
              "      <td>0</td>\n",
              "      <td>1</td>\n",
              "      <td>0</td>\n",
              "      <td>0</td>\n",
              "      <td>0</td>\n",
              "      <td>0</td>\n",
              "      <td>1</td>\n",
              "      <td>0</td>\n",
              "      <td>1</td>\n",
              "      <td>0.093</td>\n",
              "      <td>0.511</td>\n",
              "      <td>28.127439</td>\n",
              "    </tr>\n",
              "    <tr>\n",
              "      <th>7</th>\n",
              "      <td>Boston Baked Beans</td>\n",
              "      <td>0</td>\n",
              "      <td>0</td>\n",
              "      <td>0</td>\n",
              "      <td>1</td>\n",
              "      <td>0</td>\n",
              "      <td>0</td>\n",
              "      <td>0</td>\n",
              "      <td>0</td>\n",
              "      <td>1</td>\n",
              "      <td>0.313</td>\n",
              "      <td>0.511</td>\n",
              "      <td>23.417824</td>\n",
              "    </tr>\n",
              "    <tr>\n",
              "      <th>70</th>\n",
              "      <td>Sugar Babies</td>\n",
              "      <td>0</td>\n",
              "      <td>0</td>\n",
              "      <td>1</td>\n",
              "      <td>0</td>\n",
              "      <td>0</td>\n",
              "      <td>0</td>\n",
              "      <td>0</td>\n",
              "      <td>0</td>\n",
              "      <td>1</td>\n",
              "      <td>0.965</td>\n",
              "      <td>0.767</td>\n",
              "      <td>33.437550</td>\n",
              "    </tr>\n",
              "    <tr>\n",
              "      <th>41</th>\n",
              "      <td>Nerds</td>\n",
              "      <td>0</td>\n",
              "      <td>1</td>\n",
              "      <td>0</td>\n",
              "      <td>0</td>\n",
              "      <td>0</td>\n",
              "      <td>0</td>\n",
              "      <td>1</td>\n",
              "      <td>0</td>\n",
              "      <td>1</td>\n",
              "      <td>0.848</td>\n",
              "      <td>0.325</td>\n",
              "      <td>55.354046</td>\n",
              "    </tr>\n",
              "    <tr>\n",
              "      <th>34</th>\n",
              "      <td>Mike &amp; Ike</td>\n",
              "      <td>0</td>\n",
              "      <td>1</td>\n",
              "      <td>0</td>\n",
              "      <td>0</td>\n",
              "      <td>0</td>\n",
              "      <td>0</td>\n",
              "      <td>0</td>\n",
              "      <td>0</td>\n",
              "      <td>1</td>\n",
              "      <td>0.872</td>\n",
              "      <td>0.325</td>\n",
              "      <td>46.411716</td>\n",
              "    </tr>\n",
              "    <tr>\n",
              "      <th>15</th>\n",
              "      <td>Fruit Chews</td>\n",
              "      <td>0</td>\n",
              "      <td>1</td>\n",
              "      <td>0</td>\n",
              "      <td>0</td>\n",
              "      <td>0</td>\n",
              "      <td>0</td>\n",
              "      <td>0</td>\n",
              "      <td>0</td>\n",
              "      <td>1</td>\n",
              "      <td>0.127</td>\n",
              "      <td>0.034</td>\n",
              "      <td>43.088924</td>\n",
              "    </tr>\n",
              "    <tr>\n",
              "      <th>29</th>\n",
              "      <td>Laffy Taffy</td>\n",
              "      <td>0</td>\n",
              "      <td>1</td>\n",
              "      <td>0</td>\n",
              "      <td>0</td>\n",
              "      <td>0</td>\n",
              "      <td>0</td>\n",
              "      <td>0</td>\n",
              "      <td>0</td>\n",
              "      <td>0</td>\n",
              "      <td>0.220</td>\n",
              "      <td>0.116</td>\n",
              "      <td>41.389557</td>\n",
              "    </tr>\n",
              "    <tr>\n",
              "      <th>79</th>\n",
              "      <td>Twix</td>\n",
              "      <td>1</td>\n",
              "      <td>0</td>\n",
              "      <td>1</td>\n",
              "      <td>0</td>\n",
              "      <td>0</td>\n",
              "      <td>1</td>\n",
              "      <td>0</td>\n",
              "      <td>1</td>\n",
              "      <td>0</td>\n",
              "      <td>0.546</td>\n",
              "      <td>0.906</td>\n",
              "      <td>81.642914</td>\n",
              "    </tr>\n",
              "  </tbody>\n",
              "</table>\n",
              "</div>\n",
              "      <button class=\"colab-df-convert\" onclick=\"convertToInteractive('df-97a5c5fc-c1da-444b-ade5-f901984a8d67')\"\n",
              "              title=\"Convert this dataframe to an interactive table.\"\n",
              "              style=\"display:none;\">\n",
              "        \n",
              "  <svg xmlns=\"http://www.w3.org/2000/svg\" height=\"24px\"viewBox=\"0 0 24 24\"\n",
              "       width=\"24px\">\n",
              "    <path d=\"M0 0h24v24H0V0z\" fill=\"none\"/>\n",
              "    <path d=\"M18.56 5.44l.94 2.06.94-2.06 2.06-.94-2.06-.94-.94-2.06-.94 2.06-2.06.94zm-11 1L8.5 8.5l.94-2.06 2.06-.94-2.06-.94L8.5 2.5l-.94 2.06-2.06.94zm10 10l.94 2.06.94-2.06 2.06-.94-2.06-.94-.94-2.06-.94 2.06-2.06.94z\"/><path d=\"M17.41 7.96l-1.37-1.37c-.4-.4-.92-.59-1.43-.59-.52 0-1.04.2-1.43.59L10.3 9.45l-7.72 7.72c-.78.78-.78 2.05 0 2.83L4 21.41c.39.39.9.59 1.41.59.51 0 1.02-.2 1.41-.59l7.78-7.78 2.81-2.81c.8-.78.8-2.07 0-2.86zM5.41 20L4 18.59l7.72-7.72 1.47 1.35L5.41 20z\"/>\n",
              "  </svg>\n",
              "      </button>\n",
              "      \n",
              "  <style>\n",
              "    .colab-df-container {\n",
              "      display:flex;\n",
              "      flex-wrap:wrap;\n",
              "      gap: 12px;\n",
              "    }\n",
              "\n",
              "    .colab-df-convert {\n",
              "      background-color: #E8F0FE;\n",
              "      border: none;\n",
              "      border-radius: 50%;\n",
              "      cursor: pointer;\n",
              "      display: none;\n",
              "      fill: #1967D2;\n",
              "      height: 32px;\n",
              "      padding: 0 0 0 0;\n",
              "      width: 32px;\n",
              "    }\n",
              "\n",
              "    .colab-df-convert:hover {\n",
              "      background-color: #E2EBFA;\n",
              "      box-shadow: 0px 1px 2px rgba(60, 64, 67, 0.3), 0px 1px 3px 1px rgba(60, 64, 67, 0.15);\n",
              "      fill: #174EA6;\n",
              "    }\n",
              "\n",
              "    [theme=dark] .colab-df-convert {\n",
              "      background-color: #3B4455;\n",
              "      fill: #D2E3FC;\n",
              "    }\n",
              "\n",
              "    [theme=dark] .colab-df-convert:hover {\n",
              "      background-color: #434B5C;\n",
              "      box-shadow: 0px 1px 3px 1px rgba(0, 0, 0, 0.15);\n",
              "      filter: drop-shadow(0px 1px 2px rgba(0, 0, 0, 0.3));\n",
              "      fill: #FFFFFF;\n",
              "    }\n",
              "  </style>\n",
              "\n",
              "      <script>\n",
              "        const buttonEl =\n",
              "          document.querySelector('#df-97a5c5fc-c1da-444b-ade5-f901984a8d67 button.colab-df-convert');\n",
              "        buttonEl.style.display =\n",
              "          google.colab.kernel.accessAllowed ? 'block' : 'none';\n",
              "\n",
              "        async function convertToInteractive(key) {\n",
              "          const element = document.querySelector('#df-97a5c5fc-c1da-444b-ade5-f901984a8d67');\n",
              "          const dataTable =\n",
              "            await google.colab.kernel.invokeFunction('convertToInteractive',\n",
              "                                                     [key], {});\n",
              "          if (!dataTable) return;\n",
              "\n",
              "          const docLinkHtml = 'Like what you see? Visit the ' +\n",
              "            '<a target=\"_blank\" href=https://colab.research.google.com/notebooks/data_table.ipynb>data table notebook</a>'\n",
              "            + ' to learn more about interactive tables.';\n",
              "          element.innerHTML = '';\n",
              "          dataTable['output_type'] = 'display_data';\n",
              "          await google.colab.output.renderOutput(dataTable, element);\n",
              "          const docLink = document.createElement('div');\n",
              "          docLink.innerHTML = docLinkHtml;\n",
              "          element.appendChild(docLink);\n",
              "        }\n",
              "      </script>\n",
              "    </div>\n",
              "  </div>\n",
              "  "
            ]
          },
          "metadata": {},
          "execution_count": 120
        }
      ],
      "source": [
        "df.sample(10)"
      ]
    },
    {
      "cell_type": "markdown",
      "metadata": {
        "id": "jPgLZpfj2yCM"
      },
      "source": [
        "We will create a separate numpy array that contains only the columns that we want to use for clustering (i.e., excludes the `competitorname` and `winpercent` columns)."
      ]
    },
    {
      "cell_type": "code",
      "execution_count": null,
      "metadata": {
        "id": "2urU_xm02yCM"
      },
      "outputs": [],
      "source": [
        "data = df.to_numpy()[:,1:-1]"
      ]
    },
    {
      "cell_type": "markdown",
      "metadata": {
        "id": "pTY8PGK42yCM"
      },
      "source": [
        "Before we start applying and evaluating our clustering algorithms, we might first want to try to visualize the data to see what sort of structure exists. One way to visualize our data is using a scatter plot of a pair of features, e.g., sugarpercent and pricepercent."
      ]
    },
    {
      "cell_type": "code",
      "execution_count": null,
      "metadata": {
        "id": "qdaLpv3d2yCM",
        "colab": {
          "base_uri": "https://localhost:8080/",
          "height": 297
        },
        "outputId": "672b65ae-21cb-4fca-d7fd-44a464acf3dd"
      },
      "outputs": [
        {
          "output_type": "execute_result",
          "data": {
            "text/plain": [
              "<matplotlib.axes._subplots.AxesSubplot at 0x7ff397ccda90>"
            ]
          },
          "metadata": {},
          "execution_count": 122
        },
        {
          "output_type": "display_data",
          "data": {
            "text/plain": [
              "<Figure size 432x288 with 1 Axes>"
            ],
            "image/png": "[encoded data removed]"
          },
          "metadata": {
            "needs_background": "light"
          }
        }
      ],
      "source": [
        "df.plot.scatter('sugarpercent', 'pricepercent')"
      ]
    },
    {
      "cell_type": "markdown",
      "metadata": {
        "id": "hUa43NHT2yCM"
      },
      "source": [
        "Another way to visualize our 11-dimensional dataset is by reducing the dimensionality to 2 using PCA, then plotting the scatter plot of the first two PCs. \n",
        "\n",
        "Do this in the cell below."
      ]
    },
    {
      "cell_type": "code",
      "execution_count": null,
      "metadata": {
        "id": "Ln6wFa-R2yCN"
      },
      "outputs": [],
      "source": [
        "# YOUR CODE HERE\n",
        "from sklearn.decomposition import PCA\n",
        "\n",
        "n_components = 2\n",
        "pca = PCA(n_components=n_components).fit(data)\n",
        "df_pca = pca.transform(data)"
      ]
    },
    {
      "cell_type": "markdown",
      "metadata": {
        "id": "VGkkooAg2yCN"
      },
      "source": [
        "## Cluster the data\n",
        "\n",
        "We will evaluate agglomerative clustering and K-means clustering for our dataset. First, we'll use the scipy library used in Lab 15 to cluster the data using the complete link (MAX) agglomerative clustering algorithm and visualize the resulting dendrogram. This dendrogram may also be useful to visualize the dataset if the clusters respond to meaningful taxonomies."
      ]
    },
    {
      "cell_type": "code",
      "execution_count": null,
      "metadata": {
        "id": "ZRfgyf4x2yCN",
        "colab": {
          "base_uri": "https://localhost:8080/",
          "height": 592
        },
        "outputId": "5a4f14f5-9bd0-4a44-fa98-8ae903fb03d7"
      },
      "outputs": [
        {
          "output_type": "display_data",
          "data": {
            "text/plain": [
              "<Figure size 720x720 with 1 Axes>"
            ],
            "image/png": "[encoded data removed]"
          },
          "metadata": {
            "needs_background": "light"
          }
        }
      ],
      "source": [
        "from scipy.cluster import hierarchy\n",
        "import matplotlib.pyplot as plt\n",
        "fig, ax = plt.subplots(ncols=1, figsize=(10,10))\n",
        "Z = hierarchy.linkage(data, 'complete')\n",
        "dn = hierarchy.dendrogram(Z, labels=df['competitorname'].tolist(), orientation='left', ax=ax)"
      ]
    },
    {
      "cell_type": "markdown",
      "metadata": {
        "id": "_YxHu3zV2yCN"
      },
      "source": [
        "Since we will use Scikit-learn for K-means clustering, we'll recreate the agglomerative clustering using Scikit-learn too below. Recall that we can create a partitional clustering from a hierarchical clustering by cutting the dendrogram at a particular level. If we cut the dendrogram at about 2.0, our clustering would have 6 clusters. We will use this number of clusters for our Scikit-learn implementation below."
      ]
    },
    {
      "cell_type": "code",
      "execution_count": null,
      "metadata": {
        "id": "k3zADIaK2yCN"
      },
      "outputs": [],
      "source": [
        "from sklearn.cluster import AgglomerativeClustering\n",
        "\n",
        "agglom = AgglomerativeClustering(n_clusters=6, linkage='complete').fit(data)\n",
        "\n",
        "# Add resulting cluster labels to dataframe\n",
        "df['Agglom clusters'] = agglom.labels_"
      ]
    },
    {
      "cell_type": "code",
      "source": [
        "df"
      ],
      "metadata": {
        "id": "06l8YxGY3gSz",
        "outputId": "e396c678-b2e0-4f02-e9f4-921b993bd62f",
        "colab": {
          "base_uri": "https://localhost:8080/",
          "height": 520
        }
      },
      "execution_count": null,
      "outputs": [
        {
          "output_type": "execute_result",
          "data": {
            "text/plain": [
              "                competitorname  chocolate  fruity  caramel  peanutyalmondy  \\\n",
              "0                    100 Grand          1       0        1               0   \n",
              "1                 3 Musketeers          1       0        0               0   \n",
              "2                     One dime          0       0        0               0   \n",
              "3                  One quarter          0       0        0               0   \n",
              "4                    Air Heads          0       1        0               0   \n",
              "..                         ...        ...     ...      ...             ...   \n",
              "80                   Twizzlers          0       1        0               0   \n",
              "81                    Warheads          0       1        0               0   \n",
              "82        WelchÕs Fruit Snacks          0       1        0               0   \n",
              "83  WertherÕs Original Caramel          0       0        1               0   \n",
              "84                    Whoppers          1       0        0               0   \n",
              "\n",
              "    nougat  crispedricewafer  hard  bar  pluribus  sugarpercent  pricepercent  \\\n",
              "0        0                 1     0    1         0         0.732         0.860   \n",
              "1        1                 0     0    1         0         0.604         0.511   \n",
              "2        0                 0     0    0         0         0.011         0.116   \n",
              "3        0                 0     0    0         0         0.011         0.511   \n",
              "4        0                 0     0    0         0         0.906         0.511   \n",
              "..     ...               ...   ...  ...       ...           ...           ...   \n",
              "80       0                 0     0    0         0         0.220         0.116   \n",
              "81       0                 0     1    0         0         0.093         0.116   \n",
              "82       0                 0     0    0         1         0.313         0.313   \n",
              "83       0                 0     1    0         0         0.186         0.267   \n",
              "84       0                 1     0    0         1         0.872         0.848   \n",
              "\n",
              "    winpercent  Agglom clusters  \n",
              "0    66.971725                1  \n",
              "1    67.602936                1  \n",
              "2    32.261086                3  \n",
              "3    46.116505                3  \n",
              "4    52.341465                4  \n",
              "..         ...              ...  \n",
              "80   45.466282                4  \n",
              "81   39.011898                5  \n",
              "82   44.375519                4  \n",
              "83   41.904308                3  \n",
              "84   49.524113                2  \n",
              "\n",
              "[85 rows x 14 columns]"
            ],
            "text/html": [
              "\n",
              "  <div id=\"df-6fc5344e-e71c-4176-bb05-ff6cd324ace3\">\n",
              "    <div class=\"colab-df-container\">\n",
              "      <div>\n",
              "<style scoped>\n",
              "    .dataframe tbody tr th:only-of-type {\n",
              "        vertical-align: middle;\n",
              "    }\n",
              "\n",
              "    .dataframe tbody tr th {\n",
              "        vertical-align: top;\n",
              "    }\n",
              "\n",
              "    .dataframe thead th {\n",
              "        text-align: right;\n",
              "    }\n",
              "</style>\n",
              "<table border=\"1\" class=\"dataframe\">\n",
              "  <thead>\n",
              "    <tr style=\"text-align: right;\">\n",
              "      <th></th>\n",
              "      <th>competitorname</th>\n",
              "      <th>chocolate</th>\n",
              "      <th>fruity</th>\n",
              "      <th>caramel</th>\n",
              "      <th>peanutyalmondy</th>\n",
              "      <th>nougat</th>\n",
              "      <th>crispedricewafer</th>\n",
              "      <th>hard</th>\n",
              "      <th>bar</th>\n",
              "      <th>pluribus</th>\n",
              "      <th>sugarpercent</th>\n",
              "      <th>pricepercent</th>\n",
              "      <th>winpercent</th>\n",
              "      <th>Agglom clusters</th>\n",
              "    </tr>\n",
              "  </thead>\n",
              "  <tbody>\n",
              "    <tr>\n",
              "      <th>0</th>\n",
              "      <td>100 Grand</td>\n",
              "      <td>1</td>\n",
              "      <td>0</td>\n",
              "      <td>1</td>\n",
              "      <td>0</td>\n",
              "      <td>0</td>\n",
              "      <td>1</td>\n",
              "      <td>0</td>\n",
              "      <td>1</td>\n",
              "      <td>0</td>\n",
              "      <td>0.732</td>\n",
              "      <td>0.860</td>\n",
              "      <td>66.971725</td>\n",
              "      <td>1</td>\n",
              "    </tr>\n",
              "    <tr>\n",
              "      <th>1</th>\n",
              "      <td>3 Musketeers</td>\n",
              "      <td>1</td>\n",
              "      <td>0</td>\n",
              "      <td>0</td>\n",
              "      <td>0</td>\n",
              "      <td>1</td>\n",
              "      <td>0</td>\n",
              "      <td>0</td>\n",
              "      <td>1</td>\n",
              "      <td>0</td>\n",
              "      <td>0.604</td>\n",
              "      <td>0.511</td>\n",
              "      <td>67.602936</td>\n",
              "      <td>1</td>\n",
              "    </tr>\n",
              "    <tr>\n",
              "      <th>2</th>\n",
              "      <td>One dime</td>\n",
              "      <td>0</td>\n",
              "      <td>0</td>\n",
              "      <td>0</td>\n",
              "      <td>0</td>\n",
              "      <td>0</td>\n",
              "      <td>0</td>\n",
              "      <td>0</td>\n",
              "      <td>0</td>\n",
              "      <td>0</td>\n",
              "      <td>0.011</td>\n",
              "      <td>0.116</td>\n",
              "      <td>32.261086</td>\n",
              "      <td>3</td>\n",
              "    </tr>\n",
              "    <tr>\n",
              "      <th>3</th>\n",
              "      <td>One quarter</td>\n",
              "      <td>0</td>\n",
              "      <td>0</td>\n",
              "      <td>0</td>\n",
              "      <td>0</td>\n",
              "      <td>0</td>\n",
              "      <td>0</td>\n",
              "      <td>0</td>\n",
              "      <td>0</td>\n",
              "      <td>0</td>\n",
              "      <td>0.011</td>\n",
              "      <td>0.511</td>\n",
              "      <td>46.116505</td>\n",
              "      <td>3</td>\n",
              "    </tr>\n",
              "    <tr>\n",
              "      <th>4</th>\n",
              "      <td>Air Heads</td>\n",
              "      <td>0</td>\n",
              "      <td>1</td>\n",
              "      <td>0</td>\n",
              "      <td>0</td>\n",
              "      <td>0</td>\n",
              "      <td>0</td>\n",
              "      <td>0</td>\n",
              "      <td>0</td>\n",
              "      <td>0</td>\n",
              "      <td>0.906</td>\n",
              "      <td>0.511</td>\n",
              "      <td>52.341465</td>\n",
              "      <td>4</td>\n",
              "    </tr>\n",
              "    <tr>\n",
              "      <th>...</th>\n",
              "      <td>...</td>\n",
              "      <td>...</td>\n",
              "      <td>...</td>\n",
              "      <td>...</td>\n",
              "      <td>...</td>\n",
              "      <td>...</td>\n",
              "      <td>...</td>\n",
              "      <td>...</td>\n",
              "      <td>...</td>\n",
              "      <td>...</td>\n",
              "      <td>...</td>\n",
              "      <td>...</td>\n",
              "      <td>...</td>\n",
              "      <td>...</td>\n",
              "    </tr>\n",
              "    <tr>\n",
              "      <th>80</th>\n",
              "      <td>Twizzlers</td>\n",
              "      <td>0</td>\n",
              "      <td>1</td>\n",
              "      <td>0</td>\n",
              "      <td>0</td>\n",
              "      <td>0</td>\n",
              "      <td>0</td>\n",
              "      <td>0</td>\n",
              "      <td>0</td>\n",
              "      <td>0</td>\n",
              "      <td>0.220</td>\n",
              "      <td>0.116</td>\n",
              "      <td>45.466282</td>\n",
              "      <td>4</td>\n",
              "    </tr>\n",
              "    <tr>\n",
              "      <th>81</th>\n",
              "      <td>Warheads</td>\n",
              "      <td>0</td>\n",
              "      <td>1</td>\n",
              "      <td>0</td>\n",
              "      <td>0</td>\n",
              "      <td>0</td>\n",
              "      <td>0</td>\n",
              "      <td>1</td>\n",
              "      <td>0</td>\n",
              "      <td>0</td>\n",
              "      <td>0.093</td>\n",
              "      <td>0.116</td>\n",
              "      <td>39.011898</td>\n",
              "      <td>5</td>\n",
              "    </tr>\n",
              "    <tr>\n",
              "      <th>82</th>\n",
              "      <td>WelchÕs Fruit Snacks</td>\n",
              "      <td>0</td>\n",
              "      <td>1</td>\n",
              "      <td>0</td>\n",
              "      <td>0</td>\n",
              "      <td>0</td>\n",
              "      <td>0</td>\n",
              "      <td>0</td>\n",
              "      <td>0</td>\n",
              "      <td>1</td>\n",
              "      <td>0.313</td>\n",
              "      <td>0.313</td>\n",
              "      <td>44.375519</td>\n",
              "      <td>4</td>\n",
              "    </tr>\n",
              "    <tr>\n",
              "      <th>83</th>\n",
              "      <td>WertherÕs Original Caramel</td>\n",
              "      <td>0</td>\n",
              "      <td>0</td>\n",
              "      <td>1</td>\n",
              "      <td>0</td>\n",
              "      <td>0</td>\n",
              "      <td>0</td>\n",
              "      <td>1</td>\n",
              "      <td>0</td>\n",
              "      <td>0</td>\n",
              "      <td>0.186</td>\n",
              "      <td>0.267</td>\n",
              "      <td>41.904308</td>\n",
              "      <td>3</td>\n",
              "    </tr>\n",
              "    <tr>\n",
              "      <th>84</th>\n",
              "      <td>Whoppers</td>\n",
              "      <td>1</td>\n",
              "      <td>0</td>\n",
              "      <td>0</td>\n",
              "      <td>0</td>\n",
              "      <td>0</td>\n",
              "      <td>1</td>\n",
              "      <td>0</td>\n",
              "      <td>0</td>\n",
              "      <td>1</td>\n",
              "      <td>0.872</td>\n",
              "      <td>0.848</td>\n",
              "      <td>49.524113</td>\n",
              "      <td>2</td>\n",
              "    </tr>\n",
              "  </tbody>\n",
              "</table>\n",
              "<p>85 rows × 14 columns</p>\n",
              "</div>\n",
              "      <button class=\"colab-df-convert\" onclick=\"convertToInteractive('df-6fc5344e-e71c-4176-bb05-ff6cd324ace3')\"\n",
              "              title=\"Convert this dataframe to an interactive table.\"\n",
              "              style=\"display:none;\">\n",
              "        \n",
              "  <svg xmlns=\"http://www.w3.org/2000/svg\" height=\"24px\"viewBox=\"0 0 24 24\"\n",
              "       width=\"24px\">\n",
              "    <path d=\"M0 0h24v24H0V0z\" fill=\"none\"/>\n",
              "    <path d=\"M18.56 5.44l.94 2.06.94-2.06 2.06-.94-2.06-.94-.94-2.06-.94 2.06-2.06.94zm-11 1L8.5 8.5l.94-2.06 2.06-.94-2.06-.94L8.5 2.5l-.94 2.06-2.06.94zm10 10l.94 2.06.94-2.06 2.06-.94-2.06-.94-.94-2.06-.94 2.06-2.06.94z\"/><path d=\"M17.41 7.96l-1.37-1.37c-.4-.4-.92-.59-1.43-.59-.52 0-1.04.2-1.43.59L10.3 9.45l-7.72 7.72c-.78.78-.78 2.05 0 2.83L4 21.41c.39.39.9.59 1.41.59.51 0 1.02-.2 1.41-.59l7.78-7.78 2.81-2.81c.8-.78.8-2.07 0-2.86zM5.41 20L4 18.59l7.72-7.72 1.47 1.35L5.41 20z\"/>\n",
              "  </svg>\n",
              "      </button>\n",
              "      \n",
              "  <style>\n",
              "    .colab-df-container {\n",
              "      display:flex;\n",
              "      flex-wrap:wrap;\n",
              "      gap: 12px;\n",
              "    }\n",
              "\n",
              "    .colab-df-convert {\n",
              "      background-color: #E8F0FE;\n",
              "      border: none;\n",
              "      border-radius: 50%;\n",
              "      cursor: pointer;\n",
              "      display: none;\n",
              "      fill: #1967D2;\n",
              "      height: 32px;\n",
              "      padding: 0 0 0 0;\n",
              "      width: 32px;\n",
              "    }\n",
              "\n",
              "    .colab-df-convert:hover {\n",
              "      background-color: #E2EBFA;\n",
              "      box-shadow: 0px 1px 2px rgba(60, 64, 67, 0.3), 0px 1px 3px 1px rgba(60, 64, 67, 0.15);\n",
              "      fill: #174EA6;\n",
              "    }\n",
              "\n",
              "    [theme=dark] .colab-df-convert {\n",
              "      background-color: #3B4455;\n",
              "      fill: #D2E3FC;\n",
              "    }\n",
              "\n",
              "    [theme=dark] .colab-df-convert:hover {\n",
              "      background-color: #434B5C;\n",
              "      box-shadow: 0px 1px 3px 1px rgba(0, 0, 0, 0.15);\n",
              "      filter: drop-shadow(0px 1px 2px rgba(0, 0, 0, 0.3));\n",
              "      fill: #FFFFFF;\n",
              "    }\n",
              "  </style>\n",
              "\n",
              "      <script>\n",
              "        const buttonEl =\n",
              "          document.querySelector('#df-6fc5344e-e71c-4176-bb05-ff6cd324ace3 button.colab-df-convert');\n",
              "        buttonEl.style.display =\n",
              "          google.colab.kernel.accessAllowed ? 'block' : 'none';\n",
              "\n",
              "        async function convertToInteractive(key) {\n",
              "          const element = document.querySelector('#df-6fc5344e-e71c-4176-bb05-ff6cd324ace3');\n",
              "          const dataTable =\n",
              "            await google.colab.kernel.invokeFunction('convertToInteractive',\n",
              "                                                     [key], {});\n",
              "          if (!dataTable) return;\n",
              "\n",
              "          const docLinkHtml = 'Like what you see? Visit the ' +\n",
              "            '<a target=\"_blank\" href=https://colab.research.google.com/notebooks/data_table.ipynb>data table notebook</a>'\n",
              "            + ' to learn more about interactive tables.';\n",
              "          element.innerHTML = '';\n",
              "          dataTable['output_type'] = 'display_data';\n",
              "          await google.colab.output.renderOutput(dataTable, element);\n",
              "          const docLink = document.createElement('div');\n",
              "          docLink.innerHTML = docLinkHtml;\n",
              "          element.appendChild(docLink);\n",
              "        }\n",
              "      </script>\n",
              "    </div>\n",
              "  </div>\n",
              "  "
            ]
          },
          "metadata": {},
          "execution_count": 126
        }
      ]
    },
    {
      "cell_type": "markdown",
      "metadata": {
        "id": "LQR9-_2G2yCN"
      },
      "source": [
        "We will also evaluate clusterings produced by K-means. First, we need to decide how many clusters to use. In the cell below, plot the SSE as a function of number of clusters for up to 15 clusters. Set the random seed to 0 for K-means."
      ]
    },
    {
      "cell_type": "code",
      "execution_count": null,
      "metadata": {
        "id": "DyGgTvs22yCN",
        "colab": {
          "base_uri": "https://localhost:8080/",
          "height": 297
        },
        "outputId": "86e51d1a-87c3-4dcb-d3db-633cc73c8f15"
      },
      "outputs": [
        {
          "output_type": "execute_result",
          "data": {
            "text/plain": [
              "Text(0, 0.5, 'SSE')"
            ]
          },
          "metadata": {},
          "execution_count": 127
        },
        {
          "output_type": "display_data",
          "data": {
            "text/plain": [
              "<Figure size 432x288 with 1 Axes>"
            ],
            "image/png": "[encoded data removed]"
          },
          "metadata": {
            "needs_background": "light"
          }
        }
      ],
      "source": [
        "# YOUR CODE HERE\n",
        "from sklearn.cluster import KMeans\n",
        "num_clusters = range(1, 16)\n",
        "sse = []\n",
        "\n",
        "for k in num_clusters:\n",
        "    kmeans = KMeans(n_clusters=k)\n",
        "    kmeans.fit(data)\n",
        "    sse.append(kmeans.inertia_)\n",
        "\n",
        "plt.plot(num_clusters, sse)\n",
        "plt.xlabel('Number of Clusters')\n",
        "plt.ylabel('SSE')"
      ]
    },
    {
      "cell_type": "markdown",
      "metadata": {
        "id": "lJ5AQElI2yCN"
      },
      "source": [
        "Looking at the plot above, it looks like there is a bend in the curve around 4 clusters. However, we might also think that 6 clusters might be a good choice because this is what we found using agglomerative clustering. So let's try both!\n",
        "\n",
        "In the cell below, cluster the data using K-means with 4 clusters and 6 clusters. Then add the resulting cluster labels as new columns in our dataframe `df` called `KM4 clusters` and `KM6 clusters`.  Set the random state to 0 for both models."
      ]
    },
    {
      "cell_type": "code",
      "execution_count": null,
      "metadata": {
        "id": "zqb8QpXu2yCN"
      },
      "outputs": [],
      "source": [
        "# YOUR CODE HERE\n",
        "from sklearn.cluster import KMeans\n",
        "\n",
        "seed=0\n",
        "\n",
        "n_clusters4 = 4\n",
        "k_means4 = KMeans(n_clusters=n_clusters4, init='random', n_init=1, random_state=seed)\n",
        "k_means4.fit(data)\n",
        "KM4clusters= k_means4.labels_\n",
        "df['KM4 clusters'] = KM4clusters\n",
        "\n",
        "n_clusters6 = 6\n",
        "k_means6 = KMeans(n_clusters=n_clusters6, init='random', n_init=1, random_state=seed)\n",
        "k_means6.fit(data)\n",
        "KM6clusters= k_means6.labels_\n",
        "df['KM6 clusters'] = KM6clusters"
      ]
    },
    {
      "cell_type": "markdown",
      "metadata": {
        "id": "3J_1th2O2yCN"
      },
      "source": [
        "### Cluster validity\n",
        "\n",
        "Now we have 3 different clusterings that we need to evaluate to determine which gives the best candy groupings to recommend for Costco to create their bags. First, let's visualize the three different clusterings in our PCA visualization of the data."
      ]
    },
    {
      "cell_type": "code",
      "execution_count": null,
      "metadata": {
        "id": "Io0lvmix2yCO",
        "colab": {
          "base_uri": "https://localhost:8080/",
          "height": 255
        },
        "outputId": "b74013c6-666d-4c4a-be96-047e5ae60469"
      },
      "outputs": [
        {
          "output_type": "execute_result",
          "data": {
            "text/plain": [
              "Text(0.5, 1.0, 'Agglomerative (k=6)')"
            ]
          },
          "metadata": {},
          "execution_count": 129
        },
        {
          "output_type": "display_data",
          "data": {
            "text/plain": [
              "<Figure size 720x216 with 3 Axes>"
            ],
            "image/png": "[encoded data removed]"
          },
          "metadata": {
            "needs_background": "light"
          }
        }
      ],
      "source": [
        "fig, ax = plt.subplots(ncols=3, figsize=(10, 3))\n",
        "fig.tight_layout()\n",
        "\n",
        "ax[0].scatter(df_pca[:,0], df_pca[:,1], alpha=0.8, c=df['KM4 clusters'], cmap='jet')\n",
        "ax[0].set_title('K means (k=4)')\n",
        "\n",
        "ax[1].scatter(df_pca[:,0], df_pca[:,1], alpha=0.8, c=df['KM6 clusters'], cmap='jet')\n",
        "ax[1].set_title('K means (k=6)')\n",
        "\n",
        "ax[2].scatter(df_pca[:,0], df_pca[:,1], alpha=0.8, c=df['Agglom clusters'], cmap='jet')\n",
        "ax[2].set_title('Agglomerative (k=6)')"
      ]
    },
    {
      "cell_type": "markdown",
      "metadata": {
        "id": "oTPToLRu2yCO"
      },
      "source": [
        "Visually, we might think 4 clusters looks pretty nice, but we remember that we aren't seeing the original data that was clustered here---this is the data in PCA space, so it may not tell us the full story.  \n",
        "\n",
        "To quantify the goodness of each clustering, we will use cluster validity metrics. We don't have ground truth classes (or classification labels), so we need to use unsupervised metrics such as Silhouette score and sum of squared errors (SSE or inertia).\n",
        "\n",
        "In the cell below, compute the silhouette score of each of the 3 clusterings. "
      ]
    },
    {
      "cell_type": "code",
      "execution_count": null,
      "metadata": {
        "id": "CgVn5eO52yCO",
        "colab": {
          "base_uri": "https://localhost:8080/"
        },
        "outputId": "8d56f35e-6401-49b3-a069-59e602baa361"
      },
      "outputs": [
        {
          "output_type": "stream",
          "name": "stdout",
          "text": [
            "The Silhouette score of K-means 4 clusters is 0.2591172545393954\n",
            "The Silhouette score of K-means 6 clusters is 0.5634342380357946\n",
            "The Silhouette score of Agglomerative 6 clusters is 0.26624775382354204\n"
          ]
        }
      ],
      "source": [
        "from sklearn.metrics import silhouette_score\n",
        "\n",
        "# YOUR CODE HERE\n",
        "print(\"The Silhouette score of K-means 4 clusters is {}\".format(silhouette_score(df_pca, KM4clusters, metric=\"euclidean\")))\n",
        "print(\"The Silhouette score of K-means 6 clusters is {}\".format(silhouette_score(df_pca, KM6clusters, metric=\"euclidean\")))\n",
        "print(\"The Silhouette score of Agglomerative 6 clusters is {}\".format(silhouette_score(data, agglom.labels_, metric=\"euclidean\")))"
      ]
    },
    {
      "cell_type": "markdown",
      "metadata": {
        "id": "SkO4s0Mb2yCO"
      },
      "source": [
        "**Question 1: Which clustering has the best Silhouette score?**\n",
        "\n",
        "**Answer:**\n",
        "\n",
        "\n",
        "K means with 6 clusters has the highest Silhouette score(0.56).\n"
      ]
    },
    {
      "cell_type": "markdown",
      "metadata": {
        "id": "Sr4xZQJQ2yCO"
      },
      "source": [
        "In the cell below, print the sum of squared errors (SSE) for the K-means clusterings."
      ]
    },
    {
      "cell_type": "code",
      "execution_count": null,
      "metadata": {
        "id": "-AGRIp1s2yCO",
        "colab": {
          "base_uri": "https://localhost:8080/"
        },
        "outputId": "8c2d38d1-0e11-4b3b-95ad-dd218a55e93b"
      },
      "outputs": [
        {
          "output_type": "stream",
          "name": "stdout",
          "text": [
            "Inertia of K-means 4 clusters: 78.132590\n",
            "Inertia of K-means 6 clusters: 56.823484\n"
          ]
        }
      ],
      "source": [
        "# YOUR CODE HERE\n",
        "print('Inertia of K-means 4 clusters: %f' % k_means4.inertia_) \n",
        "print('Inertia of K-means 6 clusters: %f' % k_means6.inertia_)"
      ]
    },
    {
      "cell_type": "markdown",
      "metadata": {
        "id": "7lQWvnAo2yCO"
      },
      "source": [
        "**Question 2: Which clustering has the best SSE?**\n",
        "\n",
        "**Answer:**\n",
        "\n",
        "\n",
        "k means 6 clusters has the best SSE score(56.82 here lower score is better)\n"
      ]
    },
    {
      "cell_type": "markdown",
      "metadata": {
        "id": "Dt5rpGXn2yCO"
      },
      "source": [
        "**Question 3: Which clustering will you choose to make your candy bag mix recommendations to Costco? Why?**\n",
        "\n",
        "**Answer:**\n",
        "\n",
        "K means 6 clusters is best for candy bag mix recommendations mix to Costco because clustering seperates the groups more accurately.\n"
      ]
    },
    {
      "cell_type": "markdown",
      "metadata": {
        "id": "B95Mazcx2yCO"
      },
      "source": [
        "In the cell below, print the groupings of candy names in each of the candy bags (clusters) you have chosen to recommend."
      ]
    },
    {
      "cell_type": "code",
      "source": [
        "print(agglom.labels_)"
      ],
      "metadata": {
        "colab": {
          "base_uri": "https://localhost:8080/"
        },
        "id": "kaUU1xosDM_s",
        "outputId": "acdd9ab7-5264-4082-e026-faf5689fb5da"
      },
      "execution_count": null,
      "outputs": [
        {
          "output_type": "stream",
          "name": "stdout",
          "text": [
            "[1 1 3 3 4 0 0 2 4 3 1 4 4 4 5 4 5 5 4 4 4 4 2 1 0 0 5 2 1 4 5 4 2 2 4 2 1\n",
            " 1 1 0 0 5 0 1 4 4 0 2 4 5 4 0 0 2 0 5 2 4 5 2 4 4 2 5 0 1 4 4 4 5 2 3 4 4\n",
            " 5 0 2 0 4 1 4 5 4 3 2]\n"
          ]
        }
      ]
    },
    {
      "cell_type": "code",
      "execution_count": 135,
      "metadata": {
        "id": "zyRgjVyM2yCO",
        "colab": {
          "base_uri": "https://localhost:8080/"
        },
        "outputId": "c7a705d4-1f8e-4532-ffa7-11a206eaecb4"
      },
      "outputs": [
        {
          "output_type": "stream",
          "name": "stdout",
          "text": [
            "Bag 1 contains ['100 Grand' '3 Musketeers' 'Almond Joy' 'Baby Ruth' 'Charleston Chew'\n",
            " 'HersheyÕs Krackel' 'HersheyÕs Milk Chocolate' 'HersheyÕs Special Dark'\n",
            " 'Kit Kat' 'Milky Way' 'Milky Way Midnight' 'Milky Way Simply Caramel'\n",
            " 'Mounds' 'Mr Good Bar' 'Nestle Butterfinger' 'Nestle Crunch' 'Payday'\n",
            " 'ReeseÕs Miniatures' 'ReeseÕs Peanut Butter cup'\n",
            " 'ReeseÕs stuffed with pieces' 'Snickers' 'Snickers Crisper'\n",
            " 'Tootsie Roll Snack Bars' 'Twix']\n",
            "Bag 2 contains ['Chewey Lemonhead Fruit Mix' 'Chiclets' 'Dots' 'Fruit Chews'\n",
            " 'Haribo Gold Bears' 'Haribo Sour Bears' 'Haribo Twin Snakes' 'Mike & Ike'\n",
            " 'Nik L Nip' 'Now & Later' 'Red vines' 'Skittles original'\n",
            " 'Skittles wildberry' 'Sour Patch Kids' 'Sour Patch Tricksters'\n",
            " 'Starburst' 'Swedish Fish' 'Trolli Sour Bites' 'WelchÕs Fruit Snacks']\n",
            "Bag 3 contains ['Jawbusters' 'Smarties candy' 'Strawberry bon bons']\n",
            "Bag 4 contains ['Gobstopper' 'Nerds' 'Pop Rocks' 'Root Beer Barrels' 'Runts']\n",
            "Bag 5 contains ['Boston Baked Beans' 'Candy Corn' 'Haribo Happy Cola' 'HersheyÕs Kisses'\n",
            " 'Junior Mints' 'Peanut butter M&MÕs' 'M&MÕs' 'Milk Duds' 'Peanut M&Ms'\n",
            " 'Pixie Sticks' 'ReeseÕs pieces' 'Rolo' 'Sixlets' 'Nestle Smarties'\n",
            " 'Sugar Babies' 'Tootsie Roll Juniors' 'Tootsie Roll Midgies' 'Whoppers']\n",
            "Bag 6 contains ['One dime' 'One quarter' 'Air Heads' 'Caramel Apple Pops' 'Dum Dums'\n",
            " 'Fun Dip' 'Laffy Taffy' 'Lemonhead' 'Lifesavers big ring gummies'\n",
            " 'Ring pop' 'Sugar Daddy' 'Super Bubble' 'Tootsie Pop' 'Twizzlers'\n",
            " 'Warheads' 'WertherÕs Original Caramel']\n"
          ]
        }
      ],
      "source": [
        "# YOUR CODE HERE\n",
        "for i in range(0,n_clusters6):\n",
        "  print(\"Bag {} contains {}\".format(i+1,df[df['KM6 clusters']==i]['competitorname'].unique()))"
      ]
    },
    {
      "cell_type": "markdown",
      "metadata": {
        "id": "Jdhk0HR02yCO"
      },
      "source": [
        "### Additional insights\n",
        "\n",
        "Because you're an overachiever, you want to also recommend to Costco which bag mix(es) you think will be the best sellers to help them decide how many of each bag to stock. In the cell below, use the `winpercentage` attribute to compute the average win percentage for each of your bags."
      ]
    },
    {
      "cell_type": "code",
      "execution_count": null,
      "metadata": {
        "id": "l2SAANkF2yCO",
        "colab": {
          "base_uri": "https://localhost:8080/"
        },
        "outputId": "b2ad5260-b227-4afa-ae72-66251c1df4d7"
      },
      "outputs": [
        {
          "output_type": "stream",
          "name": "stdout",
          "text": [
            "The average win percentage of the Bag 1 is : 63.58908804166666\n",
            "The average win percentage of the Bag 2 is : 46.66280021052633\n",
            "The average win percentage of the Bag 3 is : 36.234085666666665\n",
            "The average win percentage of the Bag 4 is : 43.191148\n",
            "The average win percentage of the Bag 5 is : 49.55666955555556\n",
            "The average win percentage of the Bag 6 is : 40.469722374999996\n"
          ]
        }
      ],
      "source": [
        "# YOUR CODE HERE\n",
        "winpercent = []\n",
        "\n",
        "for i in range(0,n_clusters6):\n",
        "  win = []\n",
        "  for j in range(len(df)):\n",
        "    if df['KM6 clusters'][j] == i:\n",
        "      win.append(df['winpercent'][j])\n",
        "    else :\n",
        "      continue\n",
        "  winpercent.append(win)\n",
        "\n",
        "\n",
        "for i in range(len(winpercent)):\n",
        "  avg = sum(winpercent[i])/len(winpercent[i])\n",
        "  print(\"The average win percentage of the Bag {} is : {}\".format(i+1,avg))"
      ]
    },
    {
      "cell_type": "markdown",
      "metadata": {
        "id": "k5w3aVfH2yCO"
      },
      "source": [
        "**Question 4: Based on your analysis, which bag do you think will be the best selling?** \n",
        "\n",
        "**Answer:**\n",
        "\n",
        "Bag1 will be the best selling.\n"
      ]
    },
    {
      "cell_type": "code",
      "execution_count": null,
      "metadata": {
        "id": "VoergUZ42yCO"
      },
      "outputs": [],
      "source": []
    }
  ],
  "metadata": {
    "kernelspec": {
      "display_name": "Python 3 (ipykernel)",
      "language": "python",
      "name": "python3"
    },
    "language_info": {
      "codemirror_mode": {
        "name": "ipython",
        "version": 3
      },
      "file_extension": ".py",
      "mimetype": "text/x-python",
      "name": "python",
      "nbconvert_exporter": "python",
      "pygments_lexer": "ipython3",
      "version": "3.9.13"
    },
    "colab": {
      "provenance": [],
      "collapsed_sections": []
    }
  },
  "nbformat": 4,
  "nbformat_minor": 0
}