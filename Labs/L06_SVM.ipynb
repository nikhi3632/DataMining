{
  "cells": [
    {
      "cell_type": "markdown",
      "metadata": {
        "id": "EcfNWLn5wkcA"
      },
      "source": [
        "# CSE 572: Lab 6\n",
        "\n",
        "In this lab, you will practice implementing different variations of the Support Vector Machine (SVM) classifier.\n",
        "\n",
        "To execute and make changes to this notebook, click File > Save a copy to save your own version in your Google Drive or Github. Read the step-by-step instructions below carefully. To execute the code, click on each cell below and press the SHIFT-ENTER keys simultaneously or by clicking the Play button. \n",
        "\n",
        "When you finish executing all code/exercises, save your notebook then download a copy (.ipynb file). Submit the following **three** things:\n",
        "1. a link to your Colab notebook,\n",
        "2. the .ipynb file, and\n",
        "3. a pdf of the executed notebook on Canvas.\n",
        "\n",
        "To generate a pdf of the notebook, click File > Print > Save as PDF.\n"
      ]
    },
    {
      "cell_type": "markdown",
      "metadata": {
        "id": "IgsTO69QwkcD"
      },
      "source": [
        "### Load the iris dataset\n",
        "\n",
        "Load the dataset. For visualization purposes for the first exercise, we will convert the dataframe to have only two features (petal length and petal width) and two classes (Iris-virginica and Iris-other)."
      ]
    },
    {
      "cell_type": "code",
      "execution_count": null,
      "metadata": {
        "id": "im3XyYNuwkcE",
        "colab": {
          "base_uri": "https://localhost:8080/",
          "height": 206
        },
        "outputId": "3f619e3e-126c-4d77-a3b9-1670bcde977c"
      },
      "outputs": [
        {
          "output_type": "execute_result",
          "data": {
            "text/plain": [
              "   sepal length  sepal width  petal length  petal width        class\n",
              "0           5.1          3.5           1.4          0.2  Iris-setosa\n",
              "1           4.9          3.0           1.4          0.2  Iris-setosa\n",
              "2           4.7          3.2           1.3          0.2  Iris-setosa\n",
              "3           4.6          3.1           1.5          0.2  Iris-setosa\n",
              "4           5.0          3.6           1.4          0.2  Iris-setosa"
            ],
            "text/html": [
              "\n",
              "  <div id=\"df-44cda00b-5cec-4c83-8adf-b9f6e0613e4a\">\n",
              "    <div class=\"colab-df-container\">\n",
              "      <div>\n",
              "<style scoped>\n",
              "    .dataframe tbody tr th:only-of-type {\n",
              "        vertical-align: middle;\n",
              "    }\n",
              "\n",
              "    .dataframe tbody tr th {\n",
              "        vertical-align: top;\n",
              "    }\n",
              "\n",
              "    .dataframe thead th {\n",
              "        text-align: right;\n",
              "    }\n",
              "</style>\n",
              "<table border=\"1\" class=\"dataframe\">\n",
              "  <thead>\n",
              "    <tr style=\"text-align: right;\">\n",
              "      <th></th>\n",
              "      <th>sepal length</th>\n",
              "      <th>sepal width</th>\n",
              "      <th>petal length</th>\n",
              "      <th>petal width</th>\n",
              "      <th>class</th>\n",
              "    </tr>\n",
              "  </thead>\n",
              "  <tbody>\n",
              "    <tr>\n",
              "      <th>0</th>\n",
              "      <td>5.1</td>\n",
              "      <td>3.5</td>\n",
              "      <td>1.4</td>\n",
              "      <td>0.2</td>\n",
              "      <td>Iris-setosa</td>\n",
              "    </tr>\n",
              "    <tr>\n",
              "      <th>1</th>\n",
              "      <td>4.9</td>\n",
              "      <td>3.0</td>\n",
              "      <td>1.4</td>\n",
              "      <td>0.2</td>\n",
              "      <td>Iris-setosa</td>\n",
              "    </tr>\n",
              "    <tr>\n",
              "      <th>2</th>\n",
              "      <td>4.7</td>\n",
              "      <td>3.2</td>\n",
              "      <td>1.3</td>\n",
              "      <td>0.2</td>\n",
              "      <td>Iris-setosa</td>\n",
              "    </tr>\n",
              "    <tr>\n",
              "      <th>3</th>\n",
              "      <td>4.6</td>\n",
              "      <td>3.1</td>\n",
              "      <td>1.5</td>\n",
              "      <td>0.2</td>\n",
              "      <td>Iris-setosa</td>\n",
              "    </tr>\n",
              "    <tr>\n",
              "      <th>4</th>\n",
              "      <td>5.0</td>\n",
              "      <td>3.6</td>\n",
              "      <td>1.4</td>\n",
              "      <td>0.2</td>\n",
              "      <td>Iris-setosa</td>\n",
              "    </tr>\n",
              "  </tbody>\n",
              "</table>\n",
              "</div>\n",
              "      <button class=\"colab-df-convert\" onclick=\"convertToInteractive('df-44cda00b-5cec-4c83-8adf-b9f6e0613e4a')\"\n",
              "              title=\"Convert this dataframe to an interactive table.\"\n",
              "              style=\"display:none;\">\n",
              "        \n",
              "  <svg xmlns=\"http://www.w3.org/2000/svg\" height=\"24px\"viewBox=\"0 0 24 24\"\n",
              "       width=\"24px\">\n",
              "    <path d=\"M0 0h24v24H0V0z\" fill=\"none\"/>\n",
              "    <path d=\"M18.56 5.44l.94 2.06.94-2.06 2.06-.94-2.06-.94-.94-2.06-.94 2.06-2.06.94zm-11 1L8.5 8.5l.94-2.06 2.06-.94-2.06-.94L8.5 2.5l-.94 2.06-2.06.94zm10 10l.94 2.06.94-2.06 2.06-.94-2.06-.94-.94-2.06-.94 2.06-2.06.94z\"/><path d=\"M17.41 7.96l-1.37-1.37c-.4-.4-.92-.59-1.43-.59-.52 0-1.04.2-1.43.59L10.3 9.45l-7.72 7.72c-.78.78-.78 2.05 0 2.83L4 21.41c.39.39.9.59 1.41.59.51 0 1.02-.2 1.41-.59l7.78-7.78 2.81-2.81c.8-.78.8-2.07 0-2.86zM5.41 20L4 18.59l7.72-7.72 1.47 1.35L5.41 20z\"/>\n",
              "  </svg>\n",
              "      </button>\n",
              "      \n",
              "  <style>\n",
              "    .colab-df-container {\n",
              "      display:flex;\n",
              "      flex-wrap:wrap;\n",
              "      gap: 12px;\n",
              "    }\n",
              "\n",
              "    .colab-df-convert {\n",
              "      background-color: #E8F0FE;\n",
              "      border: none;\n",
              "      border-radius: 50%;\n",
              "      cursor: pointer;\n",
              "      display: none;\n",
              "      fill: #1967D2;\n",
              "      height: 32px;\n",
              "      padding: 0 0 0 0;\n",
              "      width: 32px;\n",
              "    }\n",
              "\n",
              "    .colab-df-convert:hover {\n",
              "      background-color: #E2EBFA;\n",
              "      box-shadow: 0px 1px 2px rgba(60, 64, 67, 0.3), 0px 1px 3px 1px rgba(60, 64, 67, 0.15);\n",
              "      fill: #174EA6;\n",
              "    }\n",
              "\n",
              "    [theme=dark] .colab-df-convert {\n",
              "      background-color: #3B4455;\n",
              "      fill: #D2E3FC;\n",
              "    }\n",
              "\n",
              "    [theme=dark] .colab-df-convert:hover {\n",
              "      background-color: #434B5C;\n",
              "      box-shadow: 0px 1px 3px 1px rgba(0, 0, 0, 0.15);\n",
              "      filter: drop-shadow(0px 1px 2px rgba(0, 0, 0, 0.3));\n",
              "      fill: #FFFFFF;\n",
              "    }\n",
              "  </style>\n",
              "\n",
              "      <script>\n",
              "        const buttonEl =\n",
              "          document.querySelector('#df-44cda00b-5cec-4c83-8adf-b9f6e0613e4a button.colab-df-convert');\n",
              "        buttonEl.style.display =\n",
              "          google.colab.kernel.accessAllowed ? 'block' : 'none';\n",
              "\n",
              "        async function convertToInteractive(key) {\n",
              "          const element = document.querySelector('#df-44cda00b-5cec-4c83-8adf-b9f6e0613e4a');\n",
              "          const dataTable =\n",
              "            await google.colab.kernel.invokeFunction('convertToInteractive',\n",
              "                                                     [key], {});\n",
              "          if (!dataTable) return;\n",
              "\n",
              "          const docLinkHtml = 'Like what you see? Visit the ' +\n",
              "            '<a target=\"_blank\" href=https://colab.research.google.com/notebooks/data_table.ipynb>data table notebook</a>'\n",
              "            + ' to learn more about interactive tables.';\n",
              "          element.innerHTML = '';\n",
              "          dataTable['output_type'] = 'display_data';\n",
              "          await google.colab.output.renderOutput(dataTable, element);\n",
              "          const docLink = document.createElement('div');\n",
              "          docLink.innerHTML = docLinkHtml;\n",
              "          element.appendChild(docLink);\n",
              "        }\n",
              "      </script>\n",
              "    </div>\n",
              "  </div>\n",
              "  "
            ]
          },
          "metadata": {},
          "execution_count": 1
        }
      ],
      "source": [
        "import pandas as pd\n",
        "\n",
        "import warnings\n",
        "warnings.filterwarnings(\"ignore\")\n",
        "\n",
        "data = pd.read_csv('http://archive.ics.uci.edu/ml/machine-learning-databases/iris/iris.data',header=None)\n",
        "data.columns = ['sepal length', 'sepal width', 'petal length', 'petal width', 'class']\n",
        "\n",
        "data.head()"
      ]
    },
    {
      "cell_type": "code",
      "execution_count": null,
      "metadata": {
        "id": "JP8WVRiDwkcE",
        "colab": {
          "base_uri": "https://localhost:8080/",
          "height": 206
        },
        "outputId": "a5e33b1a-2cac-430b-f853-8b319e234593"
      },
      "outputs": [
        {
          "output_type": "execute_result",
          "data": {
            "text/plain": [
              "   petal length  petal width        class\n",
              "0           1.4          0.2  Iris-setosa\n",
              "1           1.4          0.2  Iris-setosa\n",
              "2           1.3          0.2  Iris-setosa\n",
              "3           1.5          0.2  Iris-setosa\n",
              "4           1.4          0.2  Iris-setosa"
            ],
            "text/html": [
              "\n",
              "  <div id=\"df-66247364-6cd4-49f3-8e49-64bf46e51c05\">\n",
              "    <div class=\"colab-df-container\">\n",
              "      <div>\n",
              "<style scoped>\n",
              "    .dataframe tbody tr th:only-of-type {\n",
              "        vertical-align: middle;\n",
              "    }\n",
              "\n",
              "    .dataframe tbody tr th {\n",
              "        vertical-align: top;\n",
              "    }\n",
              "\n",
              "    .dataframe thead th {\n",
              "        text-align: right;\n",
              "    }\n",
              "</style>\n",
              "<table border=\"1\" class=\"dataframe\">\n",
              "  <thead>\n",
              "    <tr style=\"text-align: right;\">\n",
              "      <th></th>\n",
              "      <th>petal length</th>\n",
              "      <th>petal width</th>\n",
              "      <th>class</th>\n",
              "    </tr>\n",
              "  </thead>\n",
              "  <tbody>\n",
              "    <tr>\n",
              "      <th>0</th>\n",
              "      <td>1.4</td>\n",
              "      <td>0.2</td>\n",
              "      <td>Iris-setosa</td>\n",
              "    </tr>\n",
              "    <tr>\n",
              "      <th>1</th>\n",
              "      <td>1.4</td>\n",
              "      <td>0.2</td>\n",
              "      <td>Iris-setosa</td>\n",
              "    </tr>\n",
              "    <tr>\n",
              "      <th>2</th>\n",
              "      <td>1.3</td>\n",
              "      <td>0.2</td>\n",
              "      <td>Iris-setosa</td>\n",
              "    </tr>\n",
              "    <tr>\n",
              "      <th>3</th>\n",
              "      <td>1.5</td>\n",
              "      <td>0.2</td>\n",
              "      <td>Iris-setosa</td>\n",
              "    </tr>\n",
              "    <tr>\n",
              "      <th>4</th>\n",
              "      <td>1.4</td>\n",
              "      <td>0.2</td>\n",
              "      <td>Iris-setosa</td>\n",
              "    </tr>\n",
              "  </tbody>\n",
              "</table>\n",
              "</div>\n",
              "      <button class=\"colab-df-convert\" onclick=\"convertToInteractive('df-66247364-6cd4-49f3-8e49-64bf46e51c05')\"\n",
              "              title=\"Convert this dataframe to an interactive table.\"\n",
              "              style=\"display:none;\">\n",
              "        \n",
              "  <svg xmlns=\"http://www.w3.org/2000/svg\" height=\"24px\"viewBox=\"0 0 24 24\"\n",
              "       width=\"24px\">\n",
              "    <path d=\"M0 0h24v24H0V0z\" fill=\"none\"/>\n",
              "    <path d=\"M18.56 5.44l.94 2.06.94-2.06 2.06-.94-2.06-.94-.94-2.06-.94 2.06-2.06.94zm-11 1L8.5 8.5l.94-2.06 2.06-.94-2.06-.94L8.5 2.5l-.94 2.06-2.06.94zm10 10l.94 2.06.94-2.06 2.06-.94-2.06-.94-.94-2.06-.94 2.06-2.06.94z\"/><path d=\"M17.41 7.96l-1.37-1.37c-.4-.4-.92-.59-1.43-.59-.52 0-1.04.2-1.43.59L10.3 9.45l-7.72 7.72c-.78.78-.78 2.05 0 2.83L4 21.41c.39.39.9.59 1.41.59.51 0 1.02-.2 1.41-.59l7.78-7.78 2.81-2.81c.8-.78.8-2.07 0-2.86zM5.41 20L4 18.59l7.72-7.72 1.47 1.35L5.41 20z\"/>\n",
              "  </svg>\n",
              "      </button>\n",
              "      \n",
              "  <style>\n",
              "    .colab-df-container {\n",
              "      display:flex;\n",
              "      flex-wrap:wrap;\n",
              "      gap: 12px;\n",
              "    }\n",
              "\n",
              "    .colab-df-convert {\n",
              "      background-color: #E8F0FE;\n",
              "      border: none;\n",
              "      border-radius: 50%;\n",
              "      cursor: pointer;\n",
              "      display: none;\n",
              "      fill: #1967D2;\n",
              "      height: 32px;\n",
              "      padding: 0 0 0 0;\n",
              "      width: 32px;\n",
              "    }\n",
              "\n",
              "    .colab-df-convert:hover {\n",
              "      background-color: #E2EBFA;\n",
              "      box-shadow: 0px 1px 2px rgba(60, 64, 67, 0.3), 0px 1px 3px 1px rgba(60, 64, 67, 0.15);\n",
              "      fill: #174EA6;\n",
              "    }\n",
              "\n",
              "    [theme=dark] .colab-df-convert {\n",
              "      background-color: #3B4455;\n",
              "      fill: #D2E3FC;\n",
              "    }\n",
              "\n",
              "    [theme=dark] .colab-df-convert:hover {\n",
              "      background-color: #434B5C;\n",
              "      box-shadow: 0px 1px 3px 1px rgba(0, 0, 0, 0.15);\n",
              "      filter: drop-shadow(0px 1px 2px rgba(0, 0, 0, 0.3));\n",
              "      fill: #FFFFFF;\n",
              "    }\n",
              "  </style>\n",
              "\n",
              "      <script>\n",
              "        const buttonEl =\n",
              "          document.querySelector('#df-66247364-6cd4-49f3-8e49-64bf46e51c05 button.colab-df-convert');\n",
              "        buttonEl.style.display =\n",
              "          google.colab.kernel.accessAllowed ? 'block' : 'none';\n",
              "\n",
              "        async function convertToInteractive(key) {\n",
              "          const element = document.querySelector('#df-66247364-6cd4-49f3-8e49-64bf46e51c05');\n",
              "          const dataTable =\n",
              "            await google.colab.kernel.invokeFunction('convertToInteractive',\n",
              "                                                     [key], {});\n",
              "          if (!dataTable) return;\n",
              "\n",
              "          const docLinkHtml = 'Like what you see? Visit the ' +\n",
              "            '<a target=\"_blank\" href=https://colab.research.google.com/notebooks/data_table.ipynb>data table notebook</a>'\n",
              "            + ' to learn more about interactive tables.';\n",
              "          element.innerHTML = '';\n",
              "          dataTable['output_type'] = 'display_data';\n",
              "          await google.colab.output.renderOutput(dataTable, element);\n",
              "          const docLink = document.createElement('div');\n",
              "          docLink.innerHTML = docLinkHtml;\n",
              "          element.appendChild(docLink);\n",
              "        }\n",
              "      </script>\n",
              "    </div>\n",
              "  </div>\n",
              "  "
            ]
          },
          "metadata": {},
          "execution_count": 2
        }
      ],
      "source": [
        "# Drop the sepal features \n",
        "data = data.drop(['sepal length', 'sepal width'], axis=1)\n",
        "\n",
        "data.head()"
      ]
    },
    {
      "cell_type": "code",
      "execution_count": null,
      "metadata": {
        "id": "wbSGzopCwkcF"
      },
      "outputs": [],
      "source": [
        "# Replace the Iris-setosa and Iris-versicolor classes with Iris-other\n",
        "data['class'] = data['class'].replace('Iris-versicolor', 'Iris-other')\n",
        "data['class'] = data['class'].replace('Iris-setosa', 'Iris-other')"
      ]
    },
    {
      "cell_type": "markdown",
      "metadata": {
        "id": "afFZhFPTwkcF"
      },
      "source": [
        "Next, we will split our dataset into three subsets: training (60%), validation (20%), and test (20%)."
      ]
    },
    {
      "cell_type": "code",
      "execution_count": null,
      "metadata": {
        "id": "GiklFdW8wkcF"
      },
      "outputs": [],
      "source": [
        "import numpy as np\n",
        "\n",
        "# The first parameter is the shuffled data frame\n",
        "# The second parameter is the split indices which are at 60% of the data and 80% of the data\n",
        "train, val, test = np.split(data.sample(frac=1, random_state=42), [int(.6*len(data)), int(.8*len(data))])"
      ]
    },
    {
      "cell_type": "markdown",
      "metadata": {
        "id": "xSAKLQ_-wkcG"
      },
      "source": [
        "Print the number of samples in each of the three subsets and the number of instances from each class. For example, for the training set you might print \"The training set has __ instances (__ virginica, __ other)\"."
      ]
    },
    {
      "cell_type": "code",
      "execution_count": null,
      "metadata": {
        "id": "qkYFjPdowkcG",
        "colab": {
          "base_uri": "https://localhost:8080/"
        },
        "outputId": "0bed339e-82be-4f73-f1db-ad7bad8b0861"
      },
      "outputs": [
        {
          "output_type": "stream",
          "name": "stdout",
          "text": [
            "Training set has 90 instances (26 virginica, 64 other)\n",
            "Validation set has 30 instances (12 virginica, 18 other)\n",
            "Testing set has 30 instances (12 virginica, 18 other)\n"
          ]
        }
      ],
      "source": [
        "# YOUR CODE HERE\n",
        "print('Training set has {} instances ({} virginica, {} other)'.format(train.shape[0],\n",
        "                                                                   train[train['class']=='Iris-virginica'].shape[0],\n",
        "                                                                   train[train['class']=='Iris-other'].shape[0]))\n",
        "\n",
        "print('Validation set has {} instances ({} virginica, {} other)'.format(val.shape[0],\n",
        "                                                                   val[val['class']=='Iris-virginica'].shape[0],\n",
        "                                                                   val[val['class']=='Iris-other'].shape[0]))\n",
        "\n",
        "print('Testing set has {} instances ({} virginica, {} other)'.format(test.shape[0],\n",
        "                                                                   test[test['class']=='Iris-virginica'].shape[0],\n",
        "                                                                   test[test['class']=='Iris-other'].shape[0]))"
      ]
    },
    {
      "cell_type": "markdown",
      "metadata": {
        "id": "LS3cVkt9wkcH"
      },
      "source": [
        "## Support vector machines\n",
        "Support vector machines (SVMs) are a supervised learning method that finds the hyperplane (or set of hyperplanes) in the $n$-dimensional feature space (where $n$ is the number of input features) which maximizes the distance to the nearest training samples from each class. Maximizing this margin ensures that the decision boundary will be as generalizable as possible to new, unseen data points. "
      ]
    },
    {
      "cell_type": "code",
      "execution_count": null,
      "metadata": {
        "id": "XBOtNcYBwkcH"
      },
      "outputs": [],
      "source": [
        "# import the Support vector classifier\n",
        "from sklearn.svm import SVC"
      ]
    },
    {
      "cell_type": "markdown",
      "metadata": {
        "id": "eXHmrN9bwkcI"
      },
      "source": [
        "The main hyperparameter to choose is the regularization parameter $C$, which represents the strength of the penalty incurred during training for allowing samples to be closer to the margin boundary (since a perfect decision boundary is not attainable for most problems). \n",
        "\n",
        "SVM also uses a kernel function $K$ to map samples to a higher dimensional space (this is referred to as the \"kernel trick\"). The SVM implementation in scikit-learn gives four options for the kernel function: linear (this is the standard SVM without non-linear kernel), polynomial, radial basis function (RBF), and sigmoid. \n",
        "\n",
        "The below example uses a linear kernel with $C=0.1$."
      ]
    },
    {
      "cell_type": "code",
      "execution_count": null,
      "metadata": {
        "id": "wkMe2h9vwkcI"
      },
      "outputs": [],
      "source": [
        "C = 0.1\n",
        "linear_svc = SVC(kernel='linear', C=C)"
      ]
    },
    {
      "cell_type": "code",
      "execution_count": null,
      "metadata": {
        "id": "erilqgJEwkcI",
        "colab": {
          "base_uri": "https://localhost:8080/"
        },
        "outputId": "be147f3f-0c0b-411b-98cd-e1e78e26126a"
      },
      "outputs": [
        {
          "output_type": "execute_result",
          "data": {
            "text/plain": [
              "SVC(C=0.1, kernel='linear')"
            ]
          },
          "metadata": {},
          "execution_count": 8
        }
      ],
      "source": [
        "# train the SVM classifier\n",
        "linear_svc.fit(train[['petal length','petal width']], train['class'])"
      ]
    },
    {
      "cell_type": "markdown",
      "metadata": {
        "id": "SxSIDaR4wkcI"
      },
      "source": [
        "The following function for plotting the decision boundary is from the [Python Data Science Handbook by Jake VanderPlas](https://jakevdp.github.io/PythonDataScienceHandbook/05.07-support-vector-machines.html).  The function plots the decision boundary as a gray solid line and the margins as gray dashed lines. The support vectors are circled."
      ]
    },
    {
      "cell_type": "code",
      "execution_count": null,
      "metadata": {
        "id": "WIDuLk84wkcI"
      },
      "outputs": [],
      "source": [
        "import matplotlib.pyplot as plt\n",
        "\n",
        "def plot_svc_decision_function(model, ax=None, plot_support=True):\n",
        "    \"\"\"Plot the decision function for a 2D SVC\"\"\"\n",
        "    if ax is None:\n",
        "        ax = plt.gca()\n",
        "    xlim = ax.get_xlim()\n",
        "    ylim = ax.get_ylim()\n",
        "    \n",
        "    # create grid to evaluate model\n",
        "    x = np.linspace(xlim[0], xlim[1], 30)\n",
        "    y = np.linspace(ylim[0], ylim[1], 30)\n",
        "    Y, X = np.meshgrid(y, x)\n",
        "    xy = np.vstack([X.ravel(), Y.ravel()]).T\n",
        "    P = model.decision_function(xy).reshape(X.shape)\n",
        "    \n",
        "    # plot decision boundary and margins\n",
        "    ax.contour(X, Y, P, colors='k',\n",
        "               levels=[-1, 0, 1], alpha=0.5,\n",
        "               linestyles=['--', '-', '--'])\n",
        "    \n",
        "    # plot support vectors\n",
        "    if plot_support:\n",
        "        ax.scatter(model.support_vectors_[:, 0],\n",
        "                   model.support_vectors_[:, 1],\n",
        "                   s=300, linewidth=1, facecolors='none', edgecolors='gray');\n",
        "    ax.set_xlim(xlim)\n",
        "    ax.set_ylim(ylim)"
      ]
    },
    {
      "cell_type": "markdown",
      "metadata": {
        "id": "h3tWaJSswkcJ"
      },
      "source": [
        "Plot the dataset and the learned decision boundary."
      ]
    },
    {
      "cell_type": "code",
      "execution_count": null,
      "metadata": {
        "id": "JDPykq0KwkcJ",
        "colab": {
          "base_uri": "https://localhost:8080/",
          "height": 350
        },
        "outputId": "93f6ed15-7a55-496f-ddc1-30ebac269b5b"
      },
      "outputs": [
        {
          "output_type": "display_data",
          "data": {
            "text/plain": [
              "<Figure size 504x360 with 1 Axes>"
            ],
            "image/png": "[encoded data removed]"
          },
          "metadata": {
            "needs_background": "light"
          }
        }
      ],
      "source": [
        "fig, ax = plt.subplots(1, figsize=(7,5))\n",
        "# Plot the setosa instances\n",
        "ax.scatter(train[train['class'] == 'Iris-virginica']['petal length'], \n",
        "               train[train['class'] == 'Iris-virginica']['petal width'],\n",
        "               label='Iris-virginica',\n",
        "               color='blue',\n",
        "               alpha=0.5)\n",
        "# Plot the other instances\n",
        "ax.scatter(train[train['class'] == 'Iris-other']['petal length'], \n",
        "               train[train['class'] == 'Iris-other']['petal width'],\n",
        "               label='Iris-other',\n",
        "               color='red',\n",
        "               alpha=0.5)\n",
        "\n",
        "plot_svc_decision_function(linear_svc, ax=ax)\n",
        "ax.set_xlabel('Petal length')\n",
        "ax.set_ylabel('Petal width')\n",
        "ax.legend()\n",
        "ax.set_title('SVM with Linear Kernel (C=%0.2f)' % C);"
      ]
    },
    {
      "cell_type": "markdown",
      "metadata": {
        "id": "DQFxCvhQwkcJ"
      },
      "source": [
        "Train a new model with $C=100$ and plot the resulting decision boundary."
      ]
    },
    {
      "cell_type": "code",
      "execution_count": null,
      "metadata": {
        "id": "-CkrrvC2wkcJ",
        "colab": {
          "base_uri": "https://localhost:8080/",
          "height": 368
        },
        "outputId": "ba8e466d-2591-4575-c01b-f27350176864"
      },
      "outputs": [
        {
          "output_type": "execute_result",
          "data": {
            "text/plain": [
              "Text(0.5, 1.0, 'SVM with Linear Kernel (C=100.00)')"
            ]
          },
          "metadata": {},
          "execution_count": 11
        },
        {
          "output_type": "display_data",
          "data": {
            "text/plain": [
              "<Figure size 504x360 with 1 Axes>"
            ],
            "image/png": "[encoded data removed]"
          },
          "metadata": {
            "needs_background": "light"
          }
        }
      ],
      "source": [
        "# YOUR CODE HERE\n",
        "C = 100\n",
        "linear_svc_100 = SVC(kernel='linear', C=C)\n",
        "linear_svc_100.fit(train[['petal length','petal width']], train['class'])\n",
        "\n",
        "fig, ax = plt.subplots(1, figsize=(7,5))\n",
        "# Plot the setosa instances\n",
        "ax.scatter(train[train['class'] == 'Iris-virginica']['petal length'], \n",
        "               train[train['class'] == 'Iris-virginica']['petal width'],\n",
        "               label='Iris-virginica',\n",
        "               color='blue',\n",
        "               alpha=0.5)\n",
        "# Plot the other instances\n",
        "ax.scatter(train[train['class'] == 'Iris-other']['petal length'], \n",
        "               train[train['class'] == 'Iris-other']['petal width'],\n",
        "               label='Iris-other',\n",
        "               color='red',\n",
        "               alpha=0.5)\n",
        "\n",
        "plot_svc_decision_function(linear_svc_100, ax=ax)\n",
        "ax.set_xlabel('Petal length')\n",
        "ax.set_ylabel('Petal width')\n",
        "ax.legend()\n",
        "ax.set_title('SVM with Linear Kernel (C=%0.2f)' % C)"
      ]
    },
    {
      "cell_type": "markdown",
      "metadata": {
        "id": "b6vGxmCywkcJ"
      },
      "source": [
        "**Question 1:** \n",
        "\n",
        "How did a higher value of $C$ affect the decision boundary? Why?\n",
        "\n",
        "**Answer:** \n",
        "\n",
        "Less margin for higher value of C. Higher value of C causes the decision boundary to shrink and SVM chooses a hyperplan with small margin thereby resulting in better classification."
      ]
    },
    {
      "cell_type": "markdown",
      "metadata": {
        "id": "zackokEbwkcJ"
      },
      "source": [
        "Compute and print the accuracy of each classifier (with $C=0.1$ and $C=100$) on the validation set. "
      ]
    },
    {
      "cell_type": "code",
      "execution_count": null,
      "metadata": {
        "id": "BRj9-c-ewkcJ",
        "colab": {
          "base_uri": "https://localhost:8080/"
        },
        "outputId": "069a723e-2203-40ed-b79a-f24451150955"
      },
      "outputs": [
        {
          "output_type": "stream",
          "name": "stdout",
          "text": [
            "0.9\n",
            "0.9666666666666667\n"
          ]
        }
      ],
      "source": [
        "from sklearn.metrics import accuracy_score\n",
        "# YOUR CODE HERE\n",
        "val1 = linear_svc.predict(val[['petal length','petal width']])\n",
        "val2 = linear_svc_100.predict(val[['petal length','petal width']])\n",
        "\n",
        "print(accuracy_score(val['class'], val1))\n",
        "print(accuracy_score(val['class'], val2))"
      ]
    },
    {
      "cell_type": "markdown",
      "metadata": {
        "id": "zD4NI1W3wkcK"
      },
      "source": [
        "**Question 2:** \n",
        "\n",
        "Which value of $C$ resulted in higher validation accuracy?\n",
        "\n",
        "**Answer:** \n",
        "\n",
        "C = 100 resulted in high validation accuracy"
      ]
    },
    {
      "cell_type": "markdown",
      "metadata": {
        "id": "ea8ewD73wkcK"
      },
      "source": [
        "In addition to linear SVM, we can also implement SVM with polynomial, radial basis function (RBF), and sigmoid kernels. Train an SVM classifier with each kernel separately. Set $C$ to be the value of $C$ with highest validation accuracy from Question 2. \n",
        "\n",
        "You may need to consult the [sklearn documentation](https://scikit-learn.org/stable/modules/generated/sklearn.svm.SVC.html). The polynomial kernel requires the `degree` parameter to be passed; use `degree=3`."
      ]
    },
    {
      "cell_type": "code",
      "execution_count": null,
      "metadata": {
        "id": "ubO84LmLwkcK",
        "colab": {
          "base_uri": "https://localhost:8080/"
        },
        "outputId": "2791b834-a6b1-4cb1-97eb-3a84e69149f8"
      },
      "outputs": [
        {
          "output_type": "execute_result",
          "data": {
            "text/plain": [
              "SVC(C=100)"
            ]
          },
          "metadata": {},
          "execution_count": 13
        }
      ],
      "source": [
        "# RBF\n",
        "# YOUR CODE HERE\n",
        "C = 100\n",
        "rbf_svc = SVC(kernel='rbf', C=C)\n",
        "rbf_svc.fit(train[['petal length','petal width']], train['class'])"
      ]
    },
    {
      "cell_type": "code",
      "execution_count": null,
      "metadata": {
        "id": "zWDCBFpdwkcK",
        "colab": {
          "base_uri": "https://localhost:8080/"
        },
        "outputId": "946348b9-1cd0-4595-8402-f08228e1a7d5"
      },
      "outputs": [
        {
          "output_type": "execute_result",
          "data": {
            "text/plain": [
              "SVC(C=100, kernel='poly')"
            ]
          },
          "metadata": {},
          "execution_count": 14
        }
      ],
      "source": [
        "# Polynomial (degree=3)\n",
        "# YOUR CODE HERE\n",
        "C = 100\n",
        "poly3_svc = SVC(kernel='poly', degree=3, C=C)\n",
        "poly3_svc.fit(train[['petal length','petal width']], train['class'])"
      ]
    },
    {
      "cell_type": "code",
      "execution_count": null,
      "metadata": {
        "id": "vDjuWJAUwkcK",
        "colab": {
          "base_uri": "https://localhost:8080/"
        },
        "outputId": "1606e8be-6712-4fd2-db62-6844b306bebe"
      },
      "outputs": [
        {
          "output_type": "execute_result",
          "data": {
            "text/plain": [
              "SVC(C=100, kernel='sigmoid')"
            ]
          },
          "metadata": {},
          "execution_count": 15
        }
      ],
      "source": [
        "# Sigmoid\n",
        "# YOUR CODE HERE\n",
        "C = 100\n",
        "sigm_svc = SVC(kernel='sigmoid', C=C)\n",
        "sigm_svc.fit(train[['petal length','petal width']], train['class'])"
      ]
    },
    {
      "cell_type": "markdown",
      "metadata": {
        "id": "vC2R87Y5wkcK"
      },
      "source": [
        "Compute and print the validation accuracy for each of the 3 classifiers."
      ]
    },
    {
      "cell_type": "code",
      "execution_count": null,
      "metadata": {
        "id": "Dz3k5X-VwkcK",
        "colab": {
          "base_uri": "https://localhost:8080/"
        },
        "outputId": "48810683-ae00-4c06-b220-d7ddafaaad19"
      },
      "outputs": [
        {
          "output_type": "stream",
          "name": "stdout",
          "text": [
            "0.9666666666666667\n",
            "0.9666666666666667\n",
            "0.43333333333333335\n"
          ]
        }
      ],
      "source": [
        "# YOUR CODE HERE\n",
        "val_rbf = rbf_svc.predict(val[['petal length','petal width']])\n",
        "print(accuracy_score(val['class'], val_rbf))\n",
        "\n",
        "val_poly3 = poly3_svc.predict(val[['petal length','petal width']])\n",
        "print(accuracy_score(val['class'], val_poly3))\n",
        "\n",
        "val_sigm = sigm_svc.predict(val[['petal length','petal width']])\n",
        "print(accuracy_score(val['class'], val_sigm))"
      ]
    },
    {
      "cell_type": "markdown",
      "metadata": {
        "id": "ov8MC3VfwkcK"
      },
      "source": [
        "**Question 3:** \n",
        "\n",
        "Which of the four kernels (the three above + linear) gave the highest validation accuracy? (If multiple tied for the highest accuracy, list all of them.)\n",
        "\n",
        "**Answer:** \n",
        "\n",
        "C = 100 with kernel as Linear, RBF, Polynomial(degree=3) all three gave highest validation accuracy."
      ]
    },
    {
      "cell_type": "markdown",
      "metadata": {
        "id": "5pIJ4DtGwkcK"
      },
      "source": [
        "### SVM with non-linear decision boundary\n",
        "\n",
        "For the Iris-virginica vs. Iris-other version of the Iris dataset, the two classes were mostly linearly separable with a small number of classification errors. However, if we instead wanted to classify Iris-versicolor vs. Iris-other, the two classes would not be linearly separable. Below, we load the dataset again and convert it to Iris-versicolor vs. Iris-other and plot the dataset as a scatter plot."
      ]
    },
    {
      "cell_type": "code",
      "execution_count": null,
      "metadata": {
        "id": "O1A2CT7AwkcK",
        "colab": {
          "base_uri": "https://localhost:8080/",
          "height": 352
        },
        "outputId": "787662c0-8de3-434d-b9bc-c377f741250a"
      },
      "outputs": [
        {
          "output_type": "execute_result",
          "data": {
            "text/plain": [
              "<matplotlib.legend.Legend at 0x7f46a03d0590>"
            ]
          },
          "metadata": {},
          "execution_count": 17
        },
        {
          "output_type": "display_data",
          "data": {
            "text/plain": [
              "<Figure size 504x360 with 1 Axes>"
            ],
            "image/png": "[encoded data removed]"
          },
          "metadata": {
            "needs_background": "light"
          }
        }
      ],
      "source": [
        "# Load the dataset\n",
        "data = pd.read_csv('http://archive.ics.uci.edu/ml/machine-learning-databases/iris/iris.data',header=None)\n",
        "data.columns = ['sepal length', 'sepal width', 'petal length', 'petal width', 'class']\n",
        "\n",
        "# Drop the sepal features\n",
        "data = data.drop(['sepal length', 'sepal width'], axis=1)\n",
        "\n",
        "# Replace the Iris-virginica and Iris-setosa classes with Iris-other\n",
        "data['class'] = data['class'].replace('Iris-virginica', 'Iris-other')\n",
        "data['class'] = data['class'].replace('Iris-setosa', 'Iris-other')\n",
        "\n",
        "# Split the data into train/val/test\n",
        "train, val, test = np.split(data.sample(frac=1, random_state=42), [int(.6*len(data)), int(.8*len(data))])\n",
        "\n",
        "# Plot the dataset\n",
        "fig, ax = plt.subplots(1, figsize=(7,5))\n",
        "# Plot the versicolor instances\n",
        "ax.scatter(train[train['class'] == 'Iris-versicolor']['petal length'], \n",
        "               train[train['class'] == 'Iris-versicolor']['petal width'],\n",
        "               label='Iris-versicolor',\n",
        "               color='blue',\n",
        "               alpha=0.5)\n",
        "\n",
        "# Plot the other instances\n",
        "ax.scatter(train[train['class'] == 'Iris-other']['petal length'], \n",
        "               train[train['class'] == 'Iris-other']['petal width'],\n",
        "               label='Iris-other',\n",
        "               color='red',\n",
        "               alpha=0.5)\n",
        "\n",
        "ax.set_xlabel('Petal length')\n",
        "ax.set_ylabel('Petal width')\n",
        "ax.legend()"
      ]
    },
    {
      "cell_type": "markdown",
      "metadata": {
        "id": "lznOyBj4wkcL"
      },
      "source": [
        "If we train a linear SVM to classify these instances, the accuracy will be low. Train a linear SVM and plot the decision boundary to show this (use $C=100$)."
      ]
    },
    {
      "cell_type": "code",
      "execution_count": null,
      "metadata": {
        "id": "wMjBUPgwwkcL",
        "colab": {
          "base_uri": "https://localhost:8080/",
          "height": 368
        },
        "outputId": "71ac4cdc-9708-4e89-e1de-2c18463dd6b7"
      },
      "outputs": [
        {
          "output_type": "execute_result",
          "data": {
            "text/plain": [
              "Text(0.5, 1.0, 'SVM with Linear Kernel (C=100.00)')"
            ]
          },
          "metadata": {},
          "execution_count": 18
        },
        {
          "output_type": "display_data",
          "data": {
            "text/plain": [
              "<Figure size 504x360 with 1 Axes>"
            ],
            "image/png": "[encoded data removed]"
          },
          "metadata": {
            "needs_background": "light"
          }
        }
      ],
      "source": [
        "# YOUR CODE HERE\n",
        "C = 100\n",
        "linear_svc_100 = SVC(kernel='linear', C=C)\n",
        "linear_svc_100.fit(train[['petal length','petal width']], train['class'])\n",
        "\n",
        "fig, ax = plt.subplots(1, figsize=(7,5))\n",
        "# Plot the setosa instances\n",
        "ax.scatter(train[train['class'] == 'Iris-versicolor']['petal length'], \n",
        "               train[train['class'] == 'Iris-versicolor']['petal width'],\n",
        "               label='Iris-versicolor',\n",
        "               color='blue',\n",
        "               alpha=0.5)\n",
        "# Plot the other instances\n",
        "ax.scatter(train[train['class'] == 'Iris-other']['petal length'], \n",
        "               train[train['class'] == 'Iris-other']['petal width'],\n",
        "               label='Iris-other',\n",
        "               color='red',\n",
        "               alpha=0.5)\n",
        "\n",
        "plot_svc_decision_function(linear_svc_100, ax=ax)\n",
        "ax.set_xlabel('Petal length')\n",
        "ax.set_ylabel('Petal width')\n",
        "ax.legend()\n",
        "ax.set_title('SVM with Linear Kernel (C=%0.2f)' % C)"
      ]
    },
    {
      "cell_type": "markdown",
      "metadata": {
        "id": "eA3bglKvwkcL"
      },
      "source": [
        "The radial basis function kernel will allow us to learn an elliptical decision boundary that will better fit the data. Train an SVM with RBF kernel and plot the decision boundary (use $C=100$)."
      ]
    },
    {
      "cell_type": "code",
      "execution_count": null,
      "metadata": {
        "id": "mrxPhMzawkcL",
        "colab": {
          "base_uri": "https://localhost:8080/",
          "height": 368
        },
        "outputId": "7b1335d6-401f-47c4-e63f-f1ede8843c7e"
      },
      "outputs": [
        {
          "output_type": "execute_result",
          "data": {
            "text/plain": [
              "Text(0.5, 1.0, 'SVM with RBF Kernel (C=100.00)')"
            ]
          },
          "metadata": {},
          "execution_count": 19
        },
        {
          "output_type": "display_data",
          "data": {
            "text/plain": [
              "<Figure size 504x360 with 1 Axes>"
            ],
            "image/png": "[encoded data removed]"
          },
          "metadata": {
            "needs_background": "light"
          }
        }
      ],
      "source": [
        "# YOUR CODE HERE\n",
        "C = 100\n",
        "rbf_svc_100 = SVC(kernel='rbf', C=C)\n",
        "rbf_svc_100.fit(train[['petal length','petal width']], train['class'])\n",
        "\n",
        "fig, ax = plt.subplots(1, figsize=(7,5))\n",
        "# Plot the setosa instances\n",
        "ax.scatter(train[train['class'] == 'Iris-versicolor']['petal length'], \n",
        "               train[train['class'] == 'Iris-versicolor']['petal width'],\n",
        "               label='Iris-versicolor',\n",
        "               color='blue',\n",
        "               alpha=0.5)\n",
        "# Plot the other instances\n",
        "ax.scatter(train[train['class'] == 'Iris-other']['petal length'], \n",
        "               train[train['class'] == 'Iris-other']['petal width'],\n",
        "               label='Iris-other',\n",
        "               color='red',\n",
        "               alpha=0.5)\n",
        "\n",
        "plot_svc_decision_function(rbf_svc_100, ax=ax)\n",
        "ax.set_xlabel('Petal length')\n",
        "ax.set_ylabel('Petal width')\n",
        "ax.legend()\n",
        "ax.set_title('SVM with RBF Kernel (C=%0.2f)' % C)"
      ]
    },
    {
      "cell_type": "markdown",
      "metadata": {
        "id": "f-BL2ZWOwkcL"
      },
      "source": [
        "Compute and print the validation accuracy of your linear and RBF SVM classifiers."
      ]
    },
    {
      "cell_type": "code",
      "execution_count": null,
      "metadata": {
        "id": "FP3hDnGcwkcL",
        "colab": {
          "base_uri": "https://localhost:8080/"
        },
        "outputId": "d152206c-ee3b-464f-a63d-65bc17c8b481"
      },
      "outputs": [
        {
          "output_type": "stream",
          "name": "stdout",
          "text": [
            "0.7\n",
            "0.9666666666666667\n"
          ]
        }
      ],
      "source": [
        "# YOUR CODE HERE\n",
        "val_linear_100 = linear_svc_100.predict(val[['petal length','petal width']])\n",
        "print(accuracy_score(val['class'], val_linear_100))\n",
        "\n",
        "val_rbf_100 = rbf_svc_100.predict(val[['petal length','petal width']])\n",
        "print(accuracy_score(val['class'], val_rbf_100))"
      ]
    },
    {
      "cell_type": "markdown",
      "metadata": {
        "id": "0xC4wX1kwkcL"
      },
      "source": [
        "Finally, use the best model (the one with the highest validation accuracy in the last cell) to compute the final accuracy on our test set. "
      ]
    },
    {
      "cell_type": "code",
      "execution_count": null,
      "metadata": {
        "id": "uZfs6dftwkcL",
        "colab": {
          "base_uri": "https://localhost:8080/"
        },
        "outputId": "45d5ee06-385d-4b38-cb7c-8d0c9aa7d111"
      },
      "outputs": [
        {
          "output_type": "stream",
          "name": "stdout",
          "text": [
            "0.9666666666666667\n"
          ]
        }
      ],
      "source": [
        "# YOUR CODE HERE\n",
        "test_pred_rbf_100 = rbf_svc_100.predict(test[['petal length','petal width']])\n",
        "print(accuracy_score(test['class'], test_pred_rbf_100))"
      ]
    },
    {
      "cell_type": "markdown",
      "metadata": {
        "id": "hz1QLwH7wkcL"
      },
      "source": [
        "### Put everything together\n",
        "\n",
        "In this last section, we load the full iris dataset including all features and the three classes and split it into train/val/test subsets. Then you will implement the following steps:\n",
        "1. Train an SVM with RBF kernel using all four input features and all 3 classes.\n",
        "2. Evaluate whether $C=0.1$, $C=1$, $C=10$, or $C=100$ gives better validation accuracy. Print the validation accuracy for both.\n",
        "3. Use the model with the setting of $C$ that gave the highest validation accuracy to make predictions for the *test* set and compute/print the final accuracy on the test set."
      ]
    },
    {
      "cell_type": "code",
      "execution_count": null,
      "metadata": {
        "id": "33rb9fCewkcL"
      },
      "outputs": [],
      "source": [
        "# Load the dataset\n",
        "data = pd.read_csv('http://archive.ics.uci.edu/ml/machine-learning-databases/iris/iris.data',header=None)\n",
        "data.columns = ['sepal length', 'sepal width', 'petal length', 'petal width', 'class']\n",
        "\n",
        "# Split the data into train/val/test\n",
        "train, val, test = np.split(data.sample(frac=1, random_state=42), [int(.6*len(data)), int(.8*len(data))])"
      ]
    },
    {
      "cell_type": "code",
      "execution_count": null,
      "metadata": {
        "id": "pvmhhrQHwkcL",
        "colab": {
          "base_uri": "https://localhost:8080/"
        },
        "outputId": "a2a2b1cb-34e2-4d50-aec1-122eb0562831"
      },
      "outputs": [
        {
          "output_type": "stream",
          "name": "stdout",
          "text": [
            "0.7333333333333333\n",
            "0.9333333333333333\n",
            "0.9666666666666667\n",
            "0.9333333333333333\n"
          ]
        }
      ],
      "source": [
        "# Train SVMs and evaluate validation accuracy\n",
        "# YOUR CODE HERE\n",
        "def print_val_accuracy(c, train_set, val_set):\n",
        "  rbf = SVC(kernel='rbf', C = c)\n",
        "  rbf.fit(train_set[['petal length', 'petal width', 'sepal length', 'sepal width']], train_set['class'])\n",
        "  val_pred_rbf = rbf.predict(val_set[['petal length', 'petal width', 'sepal length', 'sepal width']])\n",
        "  print(accuracy_score(val_set['class'], val_pred_rbf))\n",
        "\n",
        "print_val_accuracy(0.1, train, val)\n",
        "print_val_accuracy(1, train, val)\n",
        "print_val_accuracy(10, train, val)\n",
        "print_val_accuracy(100, train, val)\n"
      ]
    },
    {
      "cell_type": "code",
      "execution_count": null,
      "metadata": {
        "id": "JiHWMo9gwkcM",
        "colab": {
          "base_uri": "https://localhost:8080/"
        },
        "outputId": "87f8fd39-9b5c-4053-b5d7-e960383a84b2"
      },
      "outputs": [
        {
          "output_type": "stream",
          "name": "stdout",
          "text": [
            "0.9666666666666667\n"
          ]
        }
      ],
      "source": [
        "# Use best model to predict test set and compute test accuracy\n",
        "# YOUR CODE HERE\n",
        "rbf3 = SVC(kernel='rbf', C = 10)\n",
        "rbf3.fit(train[['petal length', 'petal width', 'sepal length', 'sepal width']], train['class'])\n",
        "val_pred_rbf3 = rbf3.predict(val[['petal length', 'petal width', 'sepal length', 'sepal width']])\n",
        "\n",
        "test_pred_rbf3 = rbf3.predict(test[['petal length', 'petal width', 'sepal length', 'sepal width']])\n",
        "print(accuracy_score(test['class'], test_pred_rbf3))"
      ]
    }
  ],
  "metadata": {
    "kernelspec": {
      "display_name": "Python 3",
      "language": "python",
      "name": "python3"
    },
    "language_info": {
      "codemirror_mode": {
        "name": "ipython",
        "version": 3
      },
      "file_extension": ".py",
      "mimetype": "text/x-python",
      "name": "python",
      "nbconvert_exporter": "python",
      "pygments_lexer": "ipython3",
      "version": "3.6.15"
    },
    "colab": {
      "provenance": [],
      "collapsed_sections": []
    }
  },
  "nbformat": 4,
  "nbformat_minor": 0
}