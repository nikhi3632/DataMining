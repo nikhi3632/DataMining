{
  "cells": [
    {
      "cell_type": "markdown",
      "id": "86abac76",
      "metadata": {
        "id": "86abac76"
      },
      "source": [
        "# CSE 572: Homework 2\n",
        "\n",
        "This notebook provides a template and starting code to implement the Homework 2 assignment.\n",
        "\n",
        "To execute and make changes to this notebook, click File > Save a copy to save your own version in your Google Drive or Github. Read the step-by-step instructions below carefully. To execute the code, click on each cell below and press the SHIFT-ENTER keys simultaneously or by clicking the Play button. \n",
        "\n",
        "When you finish executing all code/exercises, save your notebook then download a copy (.ipynb file). Submit the following **three** things:\n",
        "1. a link to your Colab notebook,\n",
        "2. the .ipynb file, and\n",
        "3. a pdf of the executed notebook on Canvas.\n",
        "\n",
        "To generate a pdf of the notebook, click File > Print > Save as PDF."
      ]
    },
    {
      "cell_type": "markdown",
      "id": "60c95671",
      "metadata": {
        "id": "60c95671"
      },
      "source": [
        "## Prepare the dataset\n",
        "\n",
        "In this homework, you will compare the effect of multiple dimensionality reduction techniques on the classification performance for the [Covertype dataset](https://archive.ics.uci.edu/ml/datasets/Covertype).  The classification task for this dataset is to predict the forest cover type of a 30 m x 30 m patch of forested land described by 54 attributes. The attributes include features such as elevation, aspect, slope, soil characteristics, etc. The dataset was created by the Department of Forest Sciences at Colorado State University and the US Forest Service in 1998. "
      ]
    },
    {
      "cell_type": "code",
      "execution_count": null,
      "id": "29a5e8cb",
      "metadata": {
        "id": "29a5e8cb"
      },
      "outputs": [],
      "source": [
        "import pandas as pd\n",
        "from sklearn.datasets import fetch_covtype\n",
        "import numpy as np\n",
        "\n",
        "seed = 0\n",
        "np.random.seed(seed)\n",
        "\n",
        "dataset = fetch_covtype(as_frame=True)\n",
        "\n",
        "data = dataset.data\n",
        "labels = dataset.target"
      ]
    },
    {
      "cell_type": "code",
      "source": [
        "dataset.keys()"
      ],
      "metadata": {
        "colab": {
          "base_uri": "https://localhost:8080/"
        },
        "id": "vVPKfn4xIyXE",
        "outputId": "9e8269f4-10e9-44b9-d910-20e8214ccdcc"
      },
      "id": "vVPKfn4xIyXE",
      "execution_count": null,
      "outputs": [
        {
          "output_type": "execute_result",
          "data": {
            "text/plain": [
              "dict_keys(['data', 'target', 'frame', 'target_names', 'feature_names', 'DESCR'])"
            ]
          },
          "metadata": {},
          "execution_count": 2
        }
      ]
    },
    {
      "cell_type": "code",
      "execution_count": null,
      "id": "db452ae8",
      "metadata": {
        "id": "db452ae8",
        "colab": {
          "base_uri": "https://localhost:8080/",
          "height": 456
        },
        "outputId": "c9d37fd5-ac99-4d9d-f70f-d3329fe00696"
      },
      "outputs": [
        {
          "output_type": "execute_result",
          "data": {
            "text/plain": [
              "        Elevation  Aspect  Slope  Horizontal_Distance_To_Hydrology  \\\n",
              "215988     2767.0    66.0   17.0                             210.0   \n",
              "424155     2724.0   160.0   19.0                              60.0   \n",
              "274437     2360.0    65.0    7.0                             127.0   \n",
              "65944      2995.0    45.0    4.0                             285.0   \n",
              "11015      2400.0   106.0   27.0                             150.0   \n",
              "85781      2656.0    20.0    9.0                             323.0   \n",
              "505270     2992.0   105.0   36.0                             201.0   \n",
              "169233     3110.0    32.0   14.0                             379.0   \n",
              "373091     3242.0    40.0   15.0                              85.0   \n",
              "181345     3025.0   273.0   10.0                             391.0   \n",
              "\n",
              "        Vertical_Distance_To_Hydrology  Horizontal_Distance_To_Roadways  \\\n",
              "215988                            18.0                           1190.0   \n",
              "424155                             4.0                           1350.0   \n",
              "274437                            21.0                           1377.0   \n",
              "65944                             30.0                           5125.0   \n",
              "11015                             63.0                            342.0   \n",
              "85781                             73.0                           1082.0   \n",
              "505270                           141.0                           1211.0   \n",
              "169233                            43.0                           5028.0   \n",
              "373091                            19.0                           3330.0   \n",
              "181345                            24.0                           2797.0   \n",
              "\n",
              "        Hillshade_9am  Hillshade_Noon  Hillshade_3pm  \\\n",
              "215988          234.0           204.0           96.0   \n",
              "424155          236.0           240.0          127.0   \n",
              "274437          227.0           226.0          134.0   \n",
              "65944           221.0           231.0          146.0   \n",
              "11015           253.0           196.0           51.0   \n",
              "85781           214.0           221.0          143.0   \n",
              "505270          252.0           170.0           12.0   \n",
              "169233          216.0           208.0          125.0   \n",
              "373091          220.0           207.0          118.0   \n",
              "181345          192.0           243.0          190.0   \n",
              "\n",
              "        Horizontal_Distance_To_Fire_Points  ...  Soil_Type_30  Soil_Type_31  \\\n",
              "215988                              2251.0  ...           1.0           0.0   \n",
              "424155                              2514.0  ...           0.0           0.0   \n",
              "274437                               339.0  ...           0.0           0.0   \n",
              "65944                               5706.0  ...           0.0           0.0   \n",
              "11015                                811.0  ...           0.0           0.0   \n",
              "85781                               1036.0  ...           0.0           0.0   \n",
              "505270                              1584.0  ...           0.0           0.0   \n",
              "169233                              2845.0  ...           0.0           0.0   \n",
              "373091                              3164.0  ...           0.0           0.0   \n",
              "181345                               234.0  ...           0.0           0.0   \n",
              "\n",
              "        Soil_Type_32  Soil_Type_33  Soil_Type_34  Soil_Type_35  Soil_Type_36  \\\n",
              "215988           0.0           0.0           0.0           0.0           0.0   \n",
              "424155           0.0           0.0           0.0           0.0           0.0   \n",
              "274437           0.0           0.0           0.0           0.0           0.0   \n",
              "65944            0.0           0.0           0.0           0.0           0.0   \n",
              "11015            0.0           0.0           0.0           0.0           0.0   \n",
              "85781            0.0           0.0           0.0           0.0           0.0   \n",
              "505270           1.0           0.0           0.0           0.0           0.0   \n",
              "169233           0.0           0.0           0.0           0.0           0.0   \n",
              "373091           0.0           0.0           0.0           0.0           0.0   \n",
              "181345           0.0           0.0           0.0           0.0           0.0   \n",
              "\n",
              "        Soil_Type_37  Soil_Type_38  Soil_Type_39  \n",
              "215988           0.0           0.0           0.0  \n",
              "424155           0.0           0.0           0.0  \n",
              "274437           0.0           0.0           0.0  \n",
              "65944            0.0           0.0           0.0  \n",
              "11015            0.0           0.0           0.0  \n",
              "85781            0.0           0.0           0.0  \n",
              "505270           0.0           0.0           0.0  \n",
              "169233           0.0           0.0           0.0  \n",
              "373091           0.0           0.0           0.0  \n",
              "181345           0.0           0.0           0.0  \n",
              "\n",
              "[10 rows x 54 columns]"
            ],
            "text/html": [
              "\n",
              "  <div id=\"df-176233db-4084-4e7d-835f-9b56ac46b918\">\n",
              "    <div class=\"colab-df-container\">\n",
              "      <div>\n",
              "<style scoped>\n",
              "    .dataframe tbody tr th:only-of-type {\n",
              "        vertical-align: middle;\n",
              "    }\n",
              "\n",
              "    .dataframe tbody tr th {\n",
              "        vertical-align: top;\n",
              "    }\n",
              "\n",
              "    .dataframe thead th {\n",
              "        text-align: right;\n",
              "    }\n",
              "</style>\n",
              "<table border=\"1\" class=\"dataframe\">\n",
              "  <thead>\n",
              "    <tr style=\"text-align: right;\">\n",
              "      <th></th>\n",
              "      <th>Elevation</th>\n",
              "      <th>Aspect</th>\n",
              "      <th>Slope</th>\n",
              "      <th>Horizontal_Distance_To_Hydrology</th>\n",
              "      <th>Vertical_Distance_To_Hydrology</th>\n",
              "      <th>Horizontal_Distance_To_Roadways</th>\n",
              "      <th>Hillshade_9am</th>\n",
              "      <th>Hillshade_Noon</th>\n",
              "      <th>Hillshade_3pm</th>\n",
              "      <th>Horizontal_Distance_To_Fire_Points</th>\n",
              "      <th>...</th>\n",
              "      <th>Soil_Type_30</th>\n",
              "      <th>Soil_Type_31</th>\n",
              "      <th>Soil_Type_32</th>\n",
              "      <th>Soil_Type_33</th>\n",
              "      <th>Soil_Type_34</th>\n",
              "      <th>Soil_Type_35</th>\n",
              "      <th>Soil_Type_36</th>\n",
              "      <th>Soil_Type_37</th>\n",
              "      <th>Soil_Type_38</th>\n",
              "      <th>Soil_Type_39</th>\n",
              "    </tr>\n",
              "  </thead>\n",
              "  <tbody>\n",
              "    <tr>\n",
              "      <th>215988</th>\n",
              "      <td>2767.0</td>\n",
              "      <td>66.0</td>\n",
              "      <td>17.0</td>\n",
              "      <td>210.0</td>\n",
              "      <td>18.0</td>\n",
              "      <td>1190.0</td>\n",
              "      <td>234.0</td>\n",
              "      <td>204.0</td>\n",
              "      <td>96.0</td>\n",
              "      <td>2251.0</td>\n",
              "      <td>...</td>\n",
              "      <td>1.0</td>\n",
              "      <td>0.0</td>\n",
              "      <td>0.0</td>\n",
              "      <td>0.0</td>\n",
              "      <td>0.0</td>\n",
              "      <td>0.0</td>\n",
              "      <td>0.0</td>\n",
              "      <td>0.0</td>\n",
              "      <td>0.0</td>\n",
              "      <td>0.0</td>\n",
              "    </tr>\n",
              "    <tr>\n",
              "      <th>424155</th>\n",
              "      <td>2724.0</td>\n",
              "      <td>160.0</td>\n",
              "      <td>19.0</td>\n",
              "      <td>60.0</td>\n",
              "      <td>4.0</td>\n",
              "      <td>1350.0</td>\n",
              "      <td>236.0</td>\n",
              "      <td>240.0</td>\n",
              "      <td>127.0</td>\n",
              "      <td>2514.0</td>\n",
              "      <td>...</td>\n",
              "      <td>0.0</td>\n",
              "      <td>0.0</td>\n",
              "      <td>0.0</td>\n",
              "      <td>0.0</td>\n",
              "      <td>0.0</td>\n",
              "      <td>0.0</td>\n",
              "      <td>0.0</td>\n",
              "      <td>0.0</td>\n",
              "      <td>0.0</td>\n",
              "      <td>0.0</td>\n",
              "    </tr>\n",
              "    <tr>\n",
              "      <th>274437</th>\n",
              "      <td>2360.0</td>\n",
              "      <td>65.0</td>\n",
              "      <td>7.0</td>\n",
              "      <td>127.0</td>\n",
              "      <td>21.0</td>\n",
              "      <td>1377.0</td>\n",
              "      <td>227.0</td>\n",
              "      <td>226.0</td>\n",
              "      <td>134.0</td>\n",
              "      <td>339.0</td>\n",
              "      <td>...</td>\n",
              "      <td>0.0</td>\n",
              "      <td>0.0</td>\n",
              "      <td>0.0</td>\n",
              "      <td>0.0</td>\n",
              "      <td>0.0</td>\n",
              "      <td>0.0</td>\n",
              "      <td>0.0</td>\n",
              "      <td>0.0</td>\n",
              "      <td>0.0</td>\n",
              "      <td>0.0</td>\n",
              "    </tr>\n",
              "    <tr>\n",
              "      <th>65944</th>\n",
              "      <td>2995.0</td>\n",
              "      <td>45.0</td>\n",
              "      <td>4.0</td>\n",
              "      <td>285.0</td>\n",
              "      <td>30.0</td>\n",
              "      <td>5125.0</td>\n",
              "      <td>221.0</td>\n",
              "      <td>231.0</td>\n",
              "      <td>146.0</td>\n",
              "      <td>5706.0</td>\n",
              "      <td>...</td>\n",
              "      <td>0.0</td>\n",
              "      <td>0.0</td>\n",
              "      <td>0.0</td>\n",
              "      <td>0.0</td>\n",
              "      <td>0.0</td>\n",
              "      <td>0.0</td>\n",
              "      <td>0.0</td>\n",
              "      <td>0.0</td>\n",
              "      <td>0.0</td>\n",
              "      <td>0.0</td>\n",
              "    </tr>\n",
              "    <tr>\n",
              "      <th>11015</th>\n",
              "      <td>2400.0</td>\n",
              "      <td>106.0</td>\n",
              "      <td>27.0</td>\n",
              "      <td>150.0</td>\n",
              "      <td>63.0</td>\n",
              "      <td>342.0</td>\n",
              "      <td>253.0</td>\n",
              "      <td>196.0</td>\n",
              "      <td>51.0</td>\n",
              "      <td>811.0</td>\n",
              "      <td>...</td>\n",
              "      <td>0.0</td>\n",
              "      <td>0.0</td>\n",
              "      <td>0.0</td>\n",
              "      <td>0.0</td>\n",
              "      <td>0.0</td>\n",
              "      <td>0.0</td>\n",
              "      <td>0.0</td>\n",
              "      <td>0.0</td>\n",
              "      <td>0.0</td>\n",
              "      <td>0.0</td>\n",
              "    </tr>\n",
              "    <tr>\n",
              "      <th>85781</th>\n",
              "      <td>2656.0</td>\n",
              "      <td>20.0</td>\n",
              "      <td>9.0</td>\n",
              "      <td>323.0</td>\n",
              "      <td>73.0</td>\n",
              "      <td>1082.0</td>\n",
              "      <td>214.0</td>\n",
              "      <td>221.0</td>\n",
              "      <td>143.0</td>\n",
              "      <td>1036.0</td>\n",
              "      <td>...</td>\n",
              "      <td>0.0</td>\n",
              "      <td>0.0</td>\n",
              "      <td>0.0</td>\n",
              "      <td>0.0</td>\n",
              "      <td>0.0</td>\n",
              "      <td>0.0</td>\n",
              "      <td>0.0</td>\n",
              "      <td>0.0</td>\n",
              "      <td>0.0</td>\n",
              "      <td>0.0</td>\n",
              "    </tr>\n",
              "    <tr>\n",
              "      <th>505270</th>\n",
              "      <td>2992.0</td>\n",
              "      <td>105.0</td>\n",
              "      <td>36.0</td>\n",
              "      <td>201.0</td>\n",
              "      <td>141.0</td>\n",
              "      <td>1211.0</td>\n",
              "      <td>252.0</td>\n",
              "      <td>170.0</td>\n",
              "      <td>12.0</td>\n",
              "      <td>1584.0</td>\n",
              "      <td>...</td>\n",
              "      <td>0.0</td>\n",
              "      <td>0.0</td>\n",
              "      <td>1.0</td>\n",
              "      <td>0.0</td>\n",
              "      <td>0.0</td>\n",
              "      <td>0.0</td>\n",
              "      <td>0.0</td>\n",
              "      <td>0.0</td>\n",
              "      <td>0.0</td>\n",
              "      <td>0.0</td>\n",
              "    </tr>\n",
              "    <tr>\n",
              "      <th>169233</th>\n",
              "      <td>3110.0</td>\n",
              "      <td>32.0</td>\n",
              "      <td>14.0</td>\n",
              "      <td>379.0</td>\n",
              "      <td>43.0</td>\n",
              "      <td>5028.0</td>\n",
              "      <td>216.0</td>\n",
              "      <td>208.0</td>\n",
              "      <td>125.0</td>\n",
              "      <td>2845.0</td>\n",
              "      <td>...</td>\n",
              "      <td>0.0</td>\n",
              "      <td>0.0</td>\n",
              "      <td>0.0</td>\n",
              "      <td>0.0</td>\n",
              "      <td>0.0</td>\n",
              "      <td>0.0</td>\n",
              "      <td>0.0</td>\n",
              "      <td>0.0</td>\n",
              "      <td>0.0</td>\n",
              "      <td>0.0</td>\n",
              "    </tr>\n",
              "    <tr>\n",
              "      <th>373091</th>\n",
              "      <td>3242.0</td>\n",
              "      <td>40.0</td>\n",
              "      <td>15.0</td>\n",
              "      <td>85.0</td>\n",
              "      <td>19.0</td>\n",
              "      <td>3330.0</td>\n",
              "      <td>220.0</td>\n",
              "      <td>207.0</td>\n",
              "      <td>118.0</td>\n",
              "      <td>3164.0</td>\n",
              "      <td>...</td>\n",
              "      <td>0.0</td>\n",
              "      <td>0.0</td>\n",
              "      <td>0.0</td>\n",
              "      <td>0.0</td>\n",
              "      <td>0.0</td>\n",
              "      <td>0.0</td>\n",
              "      <td>0.0</td>\n",
              "      <td>0.0</td>\n",
              "      <td>0.0</td>\n",
              "      <td>0.0</td>\n",
              "    </tr>\n",
              "    <tr>\n",
              "      <th>181345</th>\n",
              "      <td>3025.0</td>\n",
              "      <td>273.0</td>\n",
              "      <td>10.0</td>\n",
              "      <td>391.0</td>\n",
              "      <td>24.0</td>\n",
              "      <td>2797.0</td>\n",
              "      <td>192.0</td>\n",
              "      <td>243.0</td>\n",
              "      <td>190.0</td>\n",
              "      <td>234.0</td>\n",
              "      <td>...</td>\n",
              "      <td>0.0</td>\n",
              "      <td>0.0</td>\n",
              "      <td>0.0</td>\n",
              "      <td>0.0</td>\n",
              "      <td>0.0</td>\n",
              "      <td>0.0</td>\n",
              "      <td>0.0</td>\n",
              "      <td>0.0</td>\n",
              "      <td>0.0</td>\n",
              "      <td>0.0</td>\n",
              "    </tr>\n",
              "  </tbody>\n",
              "</table>\n",
              "<p>10 rows × 54 columns</p>\n",
              "</div>\n",
              "      <button class=\"colab-df-convert\" onclick=\"convertToInteractive('df-176233db-4084-4e7d-835f-9b56ac46b918')\"\n",
              "              title=\"Convert this dataframe to an interactive table.\"\n",
              "              style=\"display:none;\">\n",
              "        \n",
              "  <svg xmlns=\"http://www.w3.org/2000/svg\" height=\"24px\"viewBox=\"0 0 24 24\"\n",
              "       width=\"24px\">\n",
              "    <path d=\"M0 0h24v24H0V0z\" fill=\"none\"/>\n",
              "    <path d=\"M18.56 5.44l.94 2.06.94-2.06 2.06-.94-2.06-.94-.94-2.06-.94 2.06-2.06.94zm-11 1L8.5 8.5l.94-2.06 2.06-.94-2.06-.94L8.5 2.5l-.94 2.06-2.06.94zm10 10l.94 2.06.94-2.06 2.06-.94-2.06-.94-.94-2.06-.94 2.06-2.06.94z\"/><path d=\"M17.41 7.96l-1.37-1.37c-.4-.4-.92-.59-1.43-.59-.52 0-1.04.2-1.43.59L10.3 9.45l-7.72 7.72c-.78.78-.78 2.05 0 2.83L4 21.41c.39.39.9.59 1.41.59.51 0 1.02-.2 1.41-.59l7.78-7.78 2.81-2.81c.8-.78.8-2.07 0-2.86zM5.41 20L4 18.59l7.72-7.72 1.47 1.35L5.41 20z\"/>\n",
              "  </svg>\n",
              "      </button>\n",
              "      \n",
              "  <style>\n",
              "    .colab-df-container {\n",
              "      display:flex;\n",
              "      flex-wrap:wrap;\n",
              "      gap: 12px;\n",
              "    }\n",
              "\n",
              "    .colab-df-convert {\n",
              "      background-color: #E8F0FE;\n",
              "      border: none;\n",
              "      border-radius: 50%;\n",
              "      cursor: pointer;\n",
              "      display: none;\n",
              "      fill: #1967D2;\n",
              "      height: 32px;\n",
              "      padding: 0 0 0 0;\n",
              "      width: 32px;\n",
              "    }\n",
              "\n",
              "    .colab-df-convert:hover {\n",
              "      background-color: #E2EBFA;\n",
              "      box-shadow: 0px 1px 2px rgba(60, 64, 67, 0.3), 0px 1px 3px 1px rgba(60, 64, 67, 0.15);\n",
              "      fill: #174EA6;\n",
              "    }\n",
              "\n",
              "    [theme=dark] .colab-df-convert {\n",
              "      background-color: #3B4455;\n",
              "      fill: #D2E3FC;\n",
              "    }\n",
              "\n",
              "    [theme=dark] .colab-df-convert:hover {\n",
              "      background-color: #434B5C;\n",
              "      box-shadow: 0px 1px 3px 1px rgba(0, 0, 0, 0.15);\n",
              "      filter: drop-shadow(0px 1px 2px rgba(0, 0, 0, 0.3));\n",
              "      fill: #FFFFFF;\n",
              "    }\n",
              "  </style>\n",
              "\n",
              "      <script>\n",
              "        const buttonEl =\n",
              "          document.querySelector('#df-176233db-4084-4e7d-835f-9b56ac46b918 button.colab-df-convert');\n",
              "        buttonEl.style.display =\n",
              "          google.colab.kernel.accessAllowed ? 'block' : 'none';\n",
              "\n",
              "        async function convertToInteractive(key) {\n",
              "          const element = document.querySelector('#df-176233db-4084-4e7d-835f-9b56ac46b918');\n",
              "          const dataTable =\n",
              "            await google.colab.kernel.invokeFunction('convertToInteractive',\n",
              "                                                     [key], {});\n",
              "          if (!dataTable) return;\n",
              "\n",
              "          const docLinkHtml = 'Like what you see? Visit the ' +\n",
              "            '<a target=\"_blank\" href=https://colab.research.google.com/notebooks/data_table.ipynb>data table notebook</a>'\n",
              "            + ' to learn more about interactive tables.';\n",
              "          element.innerHTML = '';\n",
              "          dataTable['output_type'] = 'display_data';\n",
              "          await google.colab.output.renderOutput(dataTable, element);\n",
              "          const docLink = document.createElement('div');\n",
              "          docLink.innerHTML = docLinkHtml;\n",
              "          element.appendChild(docLink);\n",
              "        }\n",
              "      </script>\n",
              "    </div>\n",
              "  </div>\n",
              "  "
            ]
          },
          "metadata": {},
          "execution_count": 3
        }
      ],
      "source": [
        "data.sample(10, random_state= seed)"
      ]
    },
    {
      "cell_type": "code",
      "execution_count": null,
      "id": "1a7e3caa",
      "metadata": {
        "id": "1a7e3caa"
      },
      "outputs": [],
      "source": [
        "label_names = ['Spruce/Fir', 'Lodgepole Pine', 'Ponderosa Pine', \n",
        "               'Cottonwood/Willow', 'Aspen', 'Douglas-fir', 'Krummholz']"
      ]
    },
    {
      "cell_type": "code",
      "execution_count": null,
      "id": "4b920c83",
      "metadata": {
        "id": "4b920c83",
        "colab": {
          "base_uri": "https://localhost:8080/"
        },
        "outputId": "1d3d75de-a874-4fe0-d10f-ab93e876cb9d"
      },
      "outputs": [
        {
          "output_type": "execute_result",
          "data": {
            "text/plain": [
              "2    283301\n",
              "1    211840\n",
              "3     35754\n",
              "7     20510\n",
              "6     17367\n",
              "5      9493\n",
              "4      2747\n",
              "Name: Cover_Type, dtype: int64"
            ]
          },
          "metadata": {},
          "execution_count": 5
        }
      ],
      "source": [
        "labels.value_counts()"
      ]
    },
    {
      "cell_type": "code",
      "source": [
        "data.info()"
      ],
      "metadata": {
        "id": "Ufft05aB6n42",
        "outputId": "9d55ab42-31c9-4a73-d32b-d0b072cbcf96",
        "colab": {
          "base_uri": "https://localhost:8080/"
        }
      },
      "id": "Ufft05aB6n42",
      "execution_count": null,
      "outputs": [
        {
          "output_type": "stream",
          "name": "stdout",
          "text": [
            "<class 'pandas.core.frame.DataFrame'>\n",
            "RangeIndex: 581012 entries, 0 to 581011\n",
            "Data columns (total 54 columns):\n",
            " #   Column                              Non-Null Count   Dtype  \n",
            "---  ------                              --------------   -----  \n",
            " 0   Elevation                           581012 non-null  float64\n",
            " 1   Aspect                              581012 non-null  float64\n",
            " 2   Slope                               581012 non-null  float64\n",
            " 3   Horizontal_Distance_To_Hydrology    581012 non-null  float64\n",
            " 4   Vertical_Distance_To_Hydrology      581012 non-null  float64\n",
            " 5   Horizontal_Distance_To_Roadways     581012 non-null  float64\n",
            " 6   Hillshade_9am                       581012 non-null  float64\n",
            " 7   Hillshade_Noon                      581012 non-null  float64\n",
            " 8   Hillshade_3pm                       581012 non-null  float64\n",
            " 9   Horizontal_Distance_To_Fire_Points  581012 non-null  float64\n",
            " 10  Wilderness_Area_0                   581012 non-null  float64\n",
            " 11  Wilderness_Area_1                   581012 non-null  float64\n",
            " 12  Wilderness_Area_2                   581012 non-null  float64\n",
            " 13  Wilderness_Area_3                   581012 non-null  float64\n",
            " 14  Soil_Type_0                         581012 non-null  float64\n",
            " 15  Soil_Type_1                         581012 non-null  float64\n",
            " 16  Soil_Type_2                         581012 non-null  float64\n",
            " 17  Soil_Type_3                         581012 non-null  float64\n",
            " 18  Soil_Type_4                         581012 non-null  float64\n",
            " 19  Soil_Type_5                         581012 non-null  float64\n",
            " 20  Soil_Type_6                         581012 non-null  float64\n",
            " 21  Soil_Type_7                         581012 non-null  float64\n",
            " 22  Soil_Type_8                         581012 non-null  float64\n",
            " 23  Soil_Type_9                         581012 non-null  float64\n",
            " 24  Soil_Type_10                        581012 non-null  float64\n",
            " 25  Soil_Type_11                        581012 non-null  float64\n",
            " 26  Soil_Type_12                        581012 non-null  float64\n",
            " 27  Soil_Type_13                        581012 non-null  float64\n",
            " 28  Soil_Type_14                        581012 non-null  float64\n",
            " 29  Soil_Type_15                        581012 non-null  float64\n",
            " 30  Soil_Type_16                        581012 non-null  float64\n",
            " 31  Soil_Type_17                        581012 non-null  float64\n",
            " 32  Soil_Type_18                        581012 non-null  float64\n",
            " 33  Soil_Type_19                        581012 non-null  float64\n",
            " 34  Soil_Type_20                        581012 non-null  float64\n",
            " 35  Soil_Type_21                        581012 non-null  float64\n",
            " 36  Soil_Type_22                        581012 non-null  float64\n",
            " 37  Soil_Type_23                        581012 non-null  float64\n",
            " 38  Soil_Type_24                        581012 non-null  float64\n",
            " 39  Soil_Type_25                        581012 non-null  float64\n",
            " 40  Soil_Type_26                        581012 non-null  float64\n",
            " 41  Soil_Type_27                        581012 non-null  float64\n",
            " 42  Soil_Type_28                        581012 non-null  float64\n",
            " 43  Soil_Type_29                        581012 non-null  float64\n",
            " 44  Soil_Type_30                        581012 non-null  float64\n",
            " 45  Soil_Type_31                        581012 non-null  float64\n",
            " 46  Soil_Type_32                        581012 non-null  float64\n",
            " 47  Soil_Type_33                        581012 non-null  float64\n",
            " 48  Soil_Type_34                        581012 non-null  float64\n",
            " 49  Soil_Type_35                        581012 non-null  float64\n",
            " 50  Soil_Type_36                        581012 non-null  float64\n",
            " 51  Soil_Type_37                        581012 non-null  float64\n",
            " 52  Soil_Type_38                        581012 non-null  float64\n",
            " 53  Soil_Type_39                        581012 non-null  float64\n",
            "dtypes: float64(54)\n",
            "memory usage: 239.4 MB\n"
          ]
        }
      ]
    },
    {
      "cell_type": "markdown",
      "id": "680c6d90",
      "metadata": {
        "id": "680c6d90"
      },
      "source": [
        "## Dimensionality reduction\n",
        "\n",
        "You will implement 2 dimensionality reduction techniques:\n",
        "- PCA (linear)\n",
        "- Autoencoder neural network (non-linear)\n",
        "\n",
        "For PCA, you will create a plot of the total fraction of explained variance by the first 1 through 10 principal components (as we did in Lab 11). Choose the number of principal components to retain based on the inflection point of this plot, i.e., the point at which the increase in total explained variance begins to plateau (as we did in Lab 11).\n",
        "\n",
        "For the autoencoder neural network, implement a network with the following layers:\n",
        "1. Input layer (# units = 54) [encoder]\n",
        "2. Hidden layer (# units = 32) [encoder]\n",
        "3. Hidden layer (# units = number of PCs retained for PCA) [encoded/bottleneck layer]\n",
        "4. Hidden layer (# units = 32) [decoder]\n",
        "5. Output layer (# units = 54) [decoder]\n",
        "\n",
        "For example, if you chose to use 3 principal components in PCA, you will have a bottleneck layer of 3 units in your autoencoder. \n",
        "\n",
        "Use ‘relu’ activation for hidden layers and ‘sigmoid’ activation for the output layer, ‘sgd’ (stochastic gradient descent) for the optimizer, and ‘mse’ (mean squared error) as the loss function. Train your model for 100 epochs with a batch size of 64. Lab 12 will be a useful guide for this implementation. Note that you will use the predict() function with only the encoder part of the model to transform your features into the encoded (reduced-dimension) representation."
      ]
    },
    {
      "cell_type": "code",
      "source": [
        "X = data\n",
        "X"
      ],
      "metadata": {
        "colab": {
          "base_uri": "https://localhost:8080/",
          "height": 488
        },
        "id": "kMbQZI6RFjWY",
        "outputId": "f9200ce0-881c-475e-d38f-4002a5af448c"
      },
      "id": "kMbQZI6RFjWY",
      "execution_count": null,
      "outputs": [
        {
          "output_type": "execute_result",
          "data": {
            "text/plain": [
              "        Elevation  Aspect  Slope  Horizontal_Distance_To_Hydrology  \\\n",
              "0          2596.0    51.0    3.0                             258.0   \n",
              "1          2590.0    56.0    2.0                             212.0   \n",
              "2          2804.0   139.0    9.0                             268.0   \n",
              "3          2785.0   155.0   18.0                             242.0   \n",
              "4          2595.0    45.0    2.0                             153.0   \n",
              "...           ...     ...    ...                               ...   \n",
              "581007     2396.0   153.0   20.0                              85.0   \n",
              "581008     2391.0   152.0   19.0                              67.0   \n",
              "581009     2386.0   159.0   17.0                              60.0   \n",
              "581010     2384.0   170.0   15.0                              60.0   \n",
              "581011     2383.0   165.0   13.0                              60.0   \n",
              "\n",
              "        Vertical_Distance_To_Hydrology  Horizontal_Distance_To_Roadways  \\\n",
              "0                                  0.0                            510.0   \n",
              "1                                 -6.0                            390.0   \n",
              "2                                 65.0                           3180.0   \n",
              "3                                118.0                           3090.0   \n",
              "4                                 -1.0                            391.0   \n",
              "...                                ...                              ...   \n",
              "581007                            17.0                            108.0   \n",
              "581008                            12.0                             95.0   \n",
              "581009                             7.0                             90.0   \n",
              "581010                             5.0                             90.0   \n",
              "581011                             4.0                             67.0   \n",
              "\n",
              "        Hillshade_9am  Hillshade_Noon  Hillshade_3pm  \\\n",
              "0               221.0           232.0          148.0   \n",
              "1               220.0           235.0          151.0   \n",
              "2               234.0           238.0          135.0   \n",
              "3               238.0           238.0          122.0   \n",
              "4               220.0           234.0          150.0   \n",
              "...               ...             ...            ...   \n",
              "581007          240.0           237.0          118.0   \n",
              "581008          240.0           237.0          119.0   \n",
              "581009          236.0           241.0          130.0   \n",
              "581010          230.0           245.0          143.0   \n",
              "581011          231.0           244.0          141.0   \n",
              "\n",
              "        Horizontal_Distance_To_Fire_Points  ...  Soil_Type_30  Soil_Type_31  \\\n",
              "0                                   6279.0  ...           0.0           0.0   \n",
              "1                                   6225.0  ...           0.0           0.0   \n",
              "2                                   6121.0  ...           0.0           0.0   \n",
              "3                                   6211.0  ...           0.0           0.0   \n",
              "4                                   6172.0  ...           0.0           0.0   \n",
              "...                                    ...  ...           ...           ...   \n",
              "581007                               837.0  ...           0.0           0.0   \n",
              "581008                               845.0  ...           0.0           0.0   \n",
              "581009                               854.0  ...           0.0           0.0   \n",
              "581010                               864.0  ...           0.0           0.0   \n",
              "581011                               875.0  ...           0.0           0.0   \n",
              "\n",
              "        Soil_Type_32  Soil_Type_33  Soil_Type_34  Soil_Type_35  Soil_Type_36  \\\n",
              "0                0.0           0.0           0.0           0.0           0.0   \n",
              "1                0.0           0.0           0.0           0.0           0.0   \n",
              "2                0.0           0.0           0.0           0.0           0.0   \n",
              "3                0.0           0.0           0.0           0.0           0.0   \n",
              "4                0.0           0.0           0.0           0.0           0.0   \n",
              "...              ...           ...           ...           ...           ...   \n",
              "581007           0.0           0.0           0.0           0.0           0.0   \n",
              "581008           0.0           0.0           0.0           0.0           0.0   \n",
              "581009           0.0           0.0           0.0           0.0           0.0   \n",
              "581010           0.0           0.0           0.0           0.0           0.0   \n",
              "581011           0.0           0.0           0.0           0.0           0.0   \n",
              "\n",
              "        Soil_Type_37  Soil_Type_38  Soil_Type_39  \n",
              "0                0.0           0.0           0.0  \n",
              "1                0.0           0.0           0.0  \n",
              "2                0.0           0.0           0.0  \n",
              "3                0.0           0.0           0.0  \n",
              "4                0.0           0.0           0.0  \n",
              "...              ...           ...           ...  \n",
              "581007           0.0           0.0           0.0  \n",
              "581008           0.0           0.0           0.0  \n",
              "581009           0.0           0.0           0.0  \n",
              "581010           0.0           0.0           0.0  \n",
              "581011           0.0           0.0           0.0  \n",
              "\n",
              "[581012 rows x 54 columns]"
            ],
            "text/html": [
              "\n",
              "  <div id=\"df-c42091a2-3444-4b7b-a8e1-21b52bb01730\">\n",
              "    <div class=\"colab-df-container\">\n",
              "      <div>\n",
              "<style scoped>\n",
              "    .dataframe tbody tr th:only-of-type {\n",
              "        vertical-align: middle;\n",
              "    }\n",
              "\n",
              "    .dataframe tbody tr th {\n",
              "        vertical-align: top;\n",
              "    }\n",
              "\n",
              "    .dataframe thead th {\n",
              "        text-align: right;\n",
              "    }\n",
              "</style>\n",
              "<table border=\"1\" class=\"dataframe\">\n",
              "  <thead>\n",
              "    <tr style=\"text-align: right;\">\n",
              "      <th></th>\n",
              "      <th>Elevation</th>\n",
              "      <th>Aspect</th>\n",
              "      <th>Slope</th>\n",
              "      <th>Horizontal_Distance_To_Hydrology</th>\n",
              "      <th>Vertical_Distance_To_Hydrology</th>\n",
              "      <th>Horizontal_Distance_To_Roadways</th>\n",
              "      <th>Hillshade_9am</th>\n",
              "      <th>Hillshade_Noon</th>\n",
              "      <th>Hillshade_3pm</th>\n",
              "      <th>Horizontal_Distance_To_Fire_Points</th>\n",
              "      <th>...</th>\n",
              "      <th>Soil_Type_30</th>\n",
              "      <th>Soil_Type_31</th>\n",
              "      <th>Soil_Type_32</th>\n",
              "      <th>Soil_Type_33</th>\n",
              "      <th>Soil_Type_34</th>\n",
              "      <th>Soil_Type_35</th>\n",
              "      <th>Soil_Type_36</th>\n",
              "      <th>Soil_Type_37</th>\n",
              "      <th>Soil_Type_38</th>\n",
              "      <th>Soil_Type_39</th>\n",
              "    </tr>\n",
              "  </thead>\n",
              "  <tbody>\n",
              "    <tr>\n",
              "      <th>0</th>\n",
              "      <td>2596.0</td>\n",
              "      <td>51.0</td>\n",
              "      <td>3.0</td>\n",
              "      <td>258.0</td>\n",
              "      <td>0.0</td>\n",
              "      <td>510.0</td>\n",
              "      <td>221.0</td>\n",
              "      <td>232.0</td>\n",
              "      <td>148.0</td>\n",
              "      <td>6279.0</td>\n",
              "      <td>...</td>\n",
              "      <td>0.0</td>\n",
              "      <td>0.0</td>\n",
              "      <td>0.0</td>\n",
              "      <td>0.0</td>\n",
              "      <td>0.0</td>\n",
              "      <td>0.0</td>\n",
              "      <td>0.0</td>\n",
              "      <td>0.0</td>\n",
              "      <td>0.0</td>\n",
              "      <td>0.0</td>\n",
              "    </tr>\n",
              "    <tr>\n",
              "      <th>1</th>\n",
              "      <td>2590.0</td>\n",
              "      <td>56.0</td>\n",
              "      <td>2.0</td>\n",
              "      <td>212.0</td>\n",
              "      <td>-6.0</td>\n",
              "      <td>390.0</td>\n",
              "      <td>220.0</td>\n",
              "      <td>235.0</td>\n",
              "      <td>151.0</td>\n",
              "      <td>6225.0</td>\n",
              "      <td>...</td>\n",
              "      <td>0.0</td>\n",
              "      <td>0.0</td>\n",
              "      <td>0.0</td>\n",
              "      <td>0.0</td>\n",
              "      <td>0.0</td>\n",
              "      <td>0.0</td>\n",
              "      <td>0.0</td>\n",
              "      <td>0.0</td>\n",
              "      <td>0.0</td>\n",
              "      <td>0.0</td>\n",
              "    </tr>\n",
              "    <tr>\n",
              "      <th>2</th>\n",
              "      <td>2804.0</td>\n",
              "      <td>139.0</td>\n",
              "      <td>9.0</td>\n",
              "      <td>268.0</td>\n",
              "      <td>65.0</td>\n",
              "      <td>3180.0</td>\n",
              "      <td>234.0</td>\n",
              "      <td>238.0</td>\n",
              "      <td>135.0</td>\n",
              "      <td>6121.0</td>\n",
              "      <td>...</td>\n",
              "      <td>0.0</td>\n",
              "      <td>0.0</td>\n",
              "      <td>0.0</td>\n",
              "      <td>0.0</td>\n",
              "      <td>0.0</td>\n",
              "      <td>0.0</td>\n",
              "      <td>0.0</td>\n",
              "      <td>0.0</td>\n",
              "      <td>0.0</td>\n",
              "      <td>0.0</td>\n",
              "    </tr>\n",
              "    <tr>\n",
              "      <th>3</th>\n",
              "      <td>2785.0</td>\n",
              "      <td>155.0</td>\n",
              "      <td>18.0</td>\n",
              "      <td>242.0</td>\n",
              "      <td>118.0</td>\n",
              "      <td>3090.0</td>\n",
              "      <td>238.0</td>\n",
              "      <td>238.0</td>\n",
              "      <td>122.0</td>\n",
              "      <td>6211.0</td>\n",
              "      <td>...</td>\n",
              "      <td>0.0</td>\n",
              "      <td>0.0</td>\n",
              "      <td>0.0</td>\n",
              "      <td>0.0</td>\n",
              "      <td>0.0</td>\n",
              "      <td>0.0</td>\n",
              "      <td>0.0</td>\n",
              "      <td>0.0</td>\n",
              "      <td>0.0</td>\n",
              "      <td>0.0</td>\n",
              "    </tr>\n",
              "    <tr>\n",
              "      <th>4</th>\n",
              "      <td>2595.0</td>\n",
              "      <td>45.0</td>\n",
              "      <td>2.0</td>\n",
              "      <td>153.0</td>\n",
              "      <td>-1.0</td>\n",
              "      <td>391.0</td>\n",
              "      <td>220.0</td>\n",
              "      <td>234.0</td>\n",
              "      <td>150.0</td>\n",
              "      <td>6172.0</td>\n",
              "      <td>...</td>\n",
              "      <td>0.0</td>\n",
              "      <td>0.0</td>\n",
              "      <td>0.0</td>\n",
              "      <td>0.0</td>\n",
              "      <td>0.0</td>\n",
              "      <td>0.0</td>\n",
              "      <td>0.0</td>\n",
              "      <td>0.0</td>\n",
              "      <td>0.0</td>\n",
              "      <td>0.0</td>\n",
              "    </tr>\n",
              "    <tr>\n",
              "      <th>...</th>\n",
              "      <td>...</td>\n",
              "      <td>...</td>\n",
              "      <td>...</td>\n",
              "      <td>...</td>\n",
              "      <td>...</td>\n",
              "      <td>...</td>\n",
              "      <td>...</td>\n",
              "      <td>...</td>\n",
              "      <td>...</td>\n",
              "      <td>...</td>\n",
              "      <td>...</td>\n",
              "      <td>...</td>\n",
              "      <td>...</td>\n",
              "      <td>...</td>\n",
              "      <td>...</td>\n",
              "      <td>...</td>\n",
              "      <td>...</td>\n",
              "      <td>...</td>\n",
              "      <td>...</td>\n",
              "      <td>...</td>\n",
              "      <td>...</td>\n",
              "    </tr>\n",
              "    <tr>\n",
              "      <th>581007</th>\n",
              "      <td>2396.0</td>\n",
              "      <td>153.0</td>\n",
              "      <td>20.0</td>\n",
              "      <td>85.0</td>\n",
              "      <td>17.0</td>\n",
              "      <td>108.0</td>\n",
              "      <td>240.0</td>\n",
              "      <td>237.0</td>\n",
              "      <td>118.0</td>\n",
              "      <td>837.0</td>\n",
              "      <td>...</td>\n",
              "      <td>0.0</td>\n",
              "      <td>0.0</td>\n",
              "      <td>0.0</td>\n",
              "      <td>0.0</td>\n",
              "      <td>0.0</td>\n",
              "      <td>0.0</td>\n",
              "      <td>0.0</td>\n",
              "      <td>0.0</td>\n",
              "      <td>0.0</td>\n",
              "      <td>0.0</td>\n",
              "    </tr>\n",
              "    <tr>\n",
              "      <th>581008</th>\n",
              "      <td>2391.0</td>\n",
              "      <td>152.0</td>\n",
              "      <td>19.0</td>\n",
              "      <td>67.0</td>\n",
              "      <td>12.0</td>\n",
              "      <td>95.0</td>\n",
              "      <td>240.0</td>\n",
              "      <td>237.0</td>\n",
              "      <td>119.0</td>\n",
              "      <td>845.0</td>\n",
              "      <td>...</td>\n",
              "      <td>0.0</td>\n",
              "      <td>0.0</td>\n",
              "      <td>0.0</td>\n",
              "      <td>0.0</td>\n",
              "      <td>0.0</td>\n",
              "      <td>0.0</td>\n",
              "      <td>0.0</td>\n",
              "      <td>0.0</td>\n",
              "      <td>0.0</td>\n",
              "      <td>0.0</td>\n",
              "    </tr>\n",
              "    <tr>\n",
              "      <th>581009</th>\n",
              "      <td>2386.0</td>\n",
              "      <td>159.0</td>\n",
              "      <td>17.0</td>\n",
              "      <td>60.0</td>\n",
              "      <td>7.0</td>\n",
              "      <td>90.0</td>\n",
              "      <td>236.0</td>\n",
              "      <td>241.0</td>\n",
              "      <td>130.0</td>\n",
              "      <td>854.0</td>\n",
              "      <td>...</td>\n",
              "      <td>0.0</td>\n",
              "      <td>0.0</td>\n",
              "      <td>0.0</td>\n",
              "      <td>0.0</td>\n",
              "      <td>0.0</td>\n",
              "      <td>0.0</td>\n",
              "      <td>0.0</td>\n",
              "      <td>0.0</td>\n",
              "      <td>0.0</td>\n",
              "      <td>0.0</td>\n",
              "    </tr>\n",
              "    <tr>\n",
              "      <th>581010</th>\n",
              "      <td>2384.0</td>\n",
              "      <td>170.0</td>\n",
              "      <td>15.0</td>\n",
              "      <td>60.0</td>\n",
              "      <td>5.0</td>\n",
              "      <td>90.0</td>\n",
              "      <td>230.0</td>\n",
              "      <td>245.0</td>\n",
              "      <td>143.0</td>\n",
              "      <td>864.0</td>\n",
              "      <td>...</td>\n",
              "      <td>0.0</td>\n",
              "      <td>0.0</td>\n",
              "      <td>0.0</td>\n",
              "      <td>0.0</td>\n",
              "      <td>0.0</td>\n",
              "      <td>0.0</td>\n",
              "      <td>0.0</td>\n",
              "      <td>0.0</td>\n",
              "      <td>0.0</td>\n",
              "      <td>0.0</td>\n",
              "    </tr>\n",
              "    <tr>\n",
              "      <th>581011</th>\n",
              "      <td>2383.0</td>\n",
              "      <td>165.0</td>\n",
              "      <td>13.0</td>\n",
              "      <td>60.0</td>\n",
              "      <td>4.0</td>\n",
              "      <td>67.0</td>\n",
              "      <td>231.0</td>\n",
              "      <td>244.0</td>\n",
              "      <td>141.0</td>\n",
              "      <td>875.0</td>\n",
              "      <td>...</td>\n",
              "      <td>0.0</td>\n",
              "      <td>0.0</td>\n",
              "      <td>0.0</td>\n",
              "      <td>0.0</td>\n",
              "      <td>0.0</td>\n",
              "      <td>0.0</td>\n",
              "      <td>0.0</td>\n",
              "      <td>0.0</td>\n",
              "      <td>0.0</td>\n",
              "      <td>0.0</td>\n",
              "    </tr>\n",
              "  </tbody>\n",
              "</table>\n",
              "<p>581012 rows × 54 columns</p>\n",
              "</div>\n",
              "      <button class=\"colab-df-convert\" onclick=\"convertToInteractive('df-c42091a2-3444-4b7b-a8e1-21b52bb01730')\"\n",
              "              title=\"Convert this dataframe to an interactive table.\"\n",
              "              style=\"display:none;\">\n",
              "        \n",
              "  <svg xmlns=\"http://www.w3.org/2000/svg\" height=\"24px\"viewBox=\"0 0 24 24\"\n",
              "       width=\"24px\">\n",
              "    <path d=\"M0 0h24v24H0V0z\" fill=\"none\"/>\n",
              "    <path d=\"M18.56 5.44l.94 2.06.94-2.06 2.06-.94-2.06-.94-.94-2.06-.94 2.06-2.06.94zm-11 1L8.5 8.5l.94-2.06 2.06-.94-2.06-.94L8.5 2.5l-.94 2.06-2.06.94zm10 10l.94 2.06.94-2.06 2.06-.94-2.06-.94-.94-2.06-.94 2.06-2.06.94z\"/><path d=\"M17.41 7.96l-1.37-1.37c-.4-.4-.92-.59-1.43-.59-.52 0-1.04.2-1.43.59L10.3 9.45l-7.72 7.72c-.78.78-.78 2.05 0 2.83L4 21.41c.39.39.9.59 1.41.59.51 0 1.02-.2 1.41-.59l7.78-7.78 2.81-2.81c.8-.78.8-2.07 0-2.86zM5.41 20L4 18.59l7.72-7.72 1.47 1.35L5.41 20z\"/>\n",
              "  </svg>\n",
              "      </button>\n",
              "      \n",
              "  <style>\n",
              "    .colab-df-container {\n",
              "      display:flex;\n",
              "      flex-wrap:wrap;\n",
              "      gap: 12px;\n",
              "    }\n",
              "\n",
              "    .colab-df-convert {\n",
              "      background-color: #E8F0FE;\n",
              "      border: none;\n",
              "      border-radius: 50%;\n",
              "      cursor: pointer;\n",
              "      display: none;\n",
              "      fill: #1967D2;\n",
              "      height: 32px;\n",
              "      padding: 0 0 0 0;\n",
              "      width: 32px;\n",
              "    }\n",
              "\n",
              "    .colab-df-convert:hover {\n",
              "      background-color: #E2EBFA;\n",
              "      box-shadow: 0px 1px 2px rgba(60, 64, 67, 0.3), 0px 1px 3px 1px rgba(60, 64, 67, 0.15);\n",
              "      fill: #174EA6;\n",
              "    }\n",
              "\n",
              "    [theme=dark] .colab-df-convert {\n",
              "      background-color: #3B4455;\n",
              "      fill: #D2E3FC;\n",
              "    }\n",
              "\n",
              "    [theme=dark] .colab-df-convert:hover {\n",
              "      background-color: #434B5C;\n",
              "      box-shadow: 0px 1px 3px 1px rgba(0, 0, 0, 0.15);\n",
              "      filter: drop-shadow(0px 1px 2px rgba(0, 0, 0, 0.3));\n",
              "      fill: #FFFFFF;\n",
              "    }\n",
              "  </style>\n",
              "\n",
              "      <script>\n",
              "        const buttonEl =\n",
              "          document.querySelector('#df-c42091a2-3444-4b7b-a8e1-21b52bb01730 button.colab-df-convert');\n",
              "        buttonEl.style.display =\n",
              "          google.colab.kernel.accessAllowed ? 'block' : 'none';\n",
              "\n",
              "        async function convertToInteractive(key) {\n",
              "          const element = document.querySelector('#df-c42091a2-3444-4b7b-a8e1-21b52bb01730');\n",
              "          const dataTable =\n",
              "            await google.colab.kernel.invokeFunction('convertToInteractive',\n",
              "                                                     [key], {});\n",
              "          if (!dataTable) return;\n",
              "\n",
              "          const docLinkHtml = 'Like what you see? Visit the ' +\n",
              "            '<a target=\"_blank\" href=https://colab.research.google.com/notebooks/data_table.ipynb>data table notebook</a>'\n",
              "            + ' to learn more about interactive tables.';\n",
              "          element.innerHTML = '';\n",
              "          dataTable['output_type'] = 'display_data';\n",
              "          await google.colab.output.renderOutput(dataTable, element);\n",
              "          const docLink = document.createElement('div');\n",
              "          docLink.innerHTML = docLinkHtml;\n",
              "          element.appendChild(docLink);\n",
              "        }\n",
              "      </script>\n",
              "    </div>\n",
              "  </div>\n",
              "  "
            ]
          },
          "metadata": {},
          "execution_count": 6
        }
      ]
    },
    {
      "cell_type": "code",
      "source": [
        "y = labels\n",
        "y"
      ],
      "metadata": {
        "colab": {
          "base_uri": "https://localhost:8080/"
        },
        "id": "fKcpdV9DFljy",
        "outputId": "1f7e2b47-04fc-4663-a38d-dd53f2fdaa22"
      },
      "id": "fKcpdV9DFljy",
      "execution_count": null,
      "outputs": [
        {
          "output_type": "execute_result",
          "data": {
            "text/plain": [
              "0         5\n",
              "1         5\n",
              "2         2\n",
              "3         2\n",
              "4         5\n",
              "         ..\n",
              "581007    3\n",
              "581008    3\n",
              "581009    3\n",
              "581010    3\n",
              "581011    3\n",
              "Name: Cover_Type, Length: 581012, dtype: int32"
            ]
          },
          "metadata": {},
          "execution_count": 7
        }
      ]
    },
    {
      "cell_type": "code",
      "source": [
        "# YOUR CODE HERE\n",
        "n_classes = len(label_names)"
      ],
      "metadata": {
        "id": "NUPsUk-iJBxm"
      },
      "id": "NUPsUk-iJBxm",
      "execution_count": null,
      "outputs": []
    },
    {
      "cell_type": "code",
      "source": [
        "print('Num classes: {}'.format(n_classes))\n",
        "print('Class names:', label_names)"
      ],
      "metadata": {
        "colab": {
          "base_uri": "https://localhost:8080/"
        },
        "id": "6zjbBBKGI_I1",
        "outputId": "fb3b5ba7-0d47-4284-8d25-4c9d937dd977"
      },
      "id": "6zjbBBKGI_I1",
      "execution_count": null,
      "outputs": [
        {
          "output_type": "stream",
          "name": "stdout",
          "text": [
            "Num classes: 7\n",
            "Class names: ['Spruce/Fir', 'Lodgepole Pine', 'Ponderosa Pine', 'Cottonwood/Willow', 'Aspen', 'Douglas-fir', 'Krummholz']\n"
          ]
        }
      ]
    },
    {
      "cell_type": "code",
      "source": [
        "for i,x in enumerate(label_names):\n",
        "  print(\"Number of instances with ID {} and name {} are {}\".format(i+1,x,y[y==i+1].shape[0]))"
      ],
      "metadata": {
        "colab": {
          "base_uri": "https://localhost:8080/"
        },
        "id": "tcgm8wT9I-1V",
        "outputId": "2b6e5bc0-748e-419b-c672-7d1033e36aae"
      },
      "id": "tcgm8wT9I-1V",
      "execution_count": null,
      "outputs": [
        {
          "output_type": "stream",
          "name": "stdout",
          "text": [
            "Number of instances with ID 1 and name Spruce/Fir are 211840\n",
            "Number of instances with ID 2 and name Lodgepole Pine are 283301\n",
            "Number of instances with ID 3 and name Ponderosa Pine are 35754\n",
            "Number of instances with ID 4 and name Cottonwood/Willow are 2747\n",
            "Number of instances with ID 5 and name Aspen are 9493\n",
            "Number of instances with ID 6 and name Douglas-fir are 17367\n",
            "Number of instances with ID 7 and name Krummholz are 20510\n"
          ]
        }
      ]
    },
    {
      "cell_type": "code",
      "execution_count": null,
      "id": "b0b608b1",
      "metadata": {
        "id": "b0b608b1"
      },
      "outputs": [],
      "source": [
        "from sklearn.model_selection import train_test_split\n",
        "\n",
        "X_train, X_test, y_train, y_test = train_test_split(\n",
        "    X, y, test_size=0.3, random_state=seed\n",
        ")"
      ]
    },
    {
      "cell_type": "code",
      "source": [
        "from sklearn.preprocessing import StandardScaler\n",
        "\n",
        "scaler = StandardScaler()\n",
        "X_train = scaler.fit_transform(X_train)\n",
        "X_test = scaler.transform(X_test)"
      ],
      "metadata": {
        "id": "PPSZNyNvKNyI"
      },
      "id": "PPSZNyNvKNyI",
      "execution_count": null,
      "outputs": []
    },
    {
      "cell_type": "code",
      "source": [
        "from sklearn.decomposition import PCA\n",
        "\n",
        "num_components = 10\n",
        "\n",
        "pca = PCA(n_components=num_components).fit(X_train)"
      ],
      "metadata": {
        "id": "pgiJmJ8PLYuB"
      },
      "id": "pgiJmJ8PLYuB",
      "execution_count": null,
      "outputs": []
    },
    {
      "cell_type": "code",
      "source": [
        "for i in range(num_components):\n",
        "    print('Percentage of variance explained by PC {}: {}'.format(i+1, sum(pca.explained_variance_ratio_[:i+1])))\n",
        "    \n",
        "print('Total variance explained by 10 PCs: {}'.format(np.sum(pca.explained_variance_ratio_)))"
      ],
      "metadata": {
        "colab": {
          "base_uri": "https://localhost:8080/"
        },
        "id": "Z_M9ieEXLYpF",
        "outputId": "63171ea9-aea2-468e-eb63-537375d745db"
      },
      "id": "Z_M9ieEXLYpF",
      "execution_count": null,
      "outputs": [
        {
          "output_type": "stream",
          "name": "stdout",
          "text": [
            "Percentage of variance explained by PC 1: 0.06854496304811446\n",
            "Percentage of variance explained by PC 2: 0.12269861693887907\n",
            "Percentage of variance explained by PC 3: 0.16708499668943083\n",
            "Percentage of variance explained by PC 4: 0.2040771992254682\n",
            "Percentage of variance explained by PC 5: 0.23188082225176643\n",
            "Percentage of variance explained by PC 6: 0.2581345746577982\n",
            "Percentage of variance explained by PC 7: 0.27996127487738787\n",
            "Percentage of variance explained by PC 8: 0.30089382619578847\n",
            "Percentage of variance explained by PC 9: 0.3209081792096988\n",
            "Percentage of variance explained by PC 10: 0.3403018585491706\n",
            "Total variance explained by 10 PCs: 0.34030185854917067\n"
          ]
        }
      ]
    },
    {
      "cell_type": "code",
      "source": [
        "import matplotlib.pyplot as plt\n",
        "pca_explained_variance_ratio_sum=[]\n",
        "num_principal_components = range(1,11)\n",
        "for i in range(num_components):\n",
        "  pca_explained_variance_ratio_sum.append(np.sum(pca.explained_variance_ratio_[0:i]))\n",
        "plt.plot(num_principal_components,pca_explained_variance_ratio_sum)\n",
        "plt.ylabel('Total variance explained by x number of principal components')\n",
        "plt.xlabel('Number of principal components')"
      ],
      "metadata": {
        "colab": {
          "base_uri": "https://localhost:8080/",
          "height": 360
        },
        "id": "W5x2CPoTO31v",
        "outputId": "4a5e21de-6444-407c-98df-5f3028f707fe"
      },
      "id": "W5x2CPoTO31v",
      "execution_count": null,
      "outputs": [
        {
          "output_type": "execute_result",
          "data": {
            "text/plain": [
              "Text(0.5, 0, 'Number of principal components')"
            ]
          },
          "metadata": {},
          "execution_count": 15
        },
        {
          "output_type": "display_data",
          "data": {
            "text/plain": [
              "<Figure size 432x288 with 1 Axes>"
            ],
            "image/png": "[encoded data removed]"
          },
          "metadata": {
            "needs_background": "light"
          }
        }
      ]
    },
    {
      "cell_type": "code",
      "source": [
        "# Choosing the number of principal components to retain as 4 based on the inflection point of the plot\n",
        "n_components = 4"
      ],
      "metadata": {
        "id": "X3dOtlqjY1cX"
      },
      "id": "X3dOtlqjY1cX",
      "execution_count": null,
      "outputs": []
    },
    {
      "cell_type": "code",
      "source": [
        "in_pca = PCA(n_components= n_components).fit(X_train)\n",
        "\n",
        "X_train_pca = in_pca.transform(X_train)\n",
        "X_test_pca = in_pca.transform(X_test)"
      ],
      "metadata": {
        "id": "Cn65HXorYyTW"
      },
      "id": "Cn65HXorYyTW",
      "execution_count": null,
      "outputs": []
    },
    {
      "cell_type": "code",
      "source": [
        "import keras\n",
        "from keras import layers\n",
        "\n",
        "# This is the size of our encoded representations\n",
        "encoding_dim = n_components\n",
        "\n",
        "# This is our input \n",
        "input = keras.Input(shape=(X_train.shape[1],))\n",
        "# \"encoded\" is the encoded representation of the input\n",
        "encoded = layers.Dense(54, activation='relu')(input)\n",
        "encoded = layers.Dense(32, activation='relu')(encoded)\n",
        "encoded = layers.Dense(encoding_dim, activation='relu')(encoded)\n",
        "\n",
        "# \"decoded\" is the lossy reconstruction of the input\n",
        "decoded = layers.Dense(32, activation='relu')(encoded)\n",
        "decoded = layers.Dense(54, activation='sigmoid')(decoded)\n",
        "\n",
        "# This model maps an input to its reconstruction\n",
        "autoencoder = keras.Model(input, decoded)"
      ],
      "metadata": {
        "id": "vmr9HzFbLYme"
      },
      "id": "vmr9HzFbLYme",
      "execution_count": null,
      "outputs": []
    },
    {
      "cell_type": "code",
      "source": [
        "encoder = keras.Model(input, encoded)"
      ],
      "metadata": {
        "id": "4I32LO_fLYjn"
      },
      "id": "4I32LO_fLYjn",
      "execution_count": null,
      "outputs": []
    },
    {
      "cell_type": "code",
      "source": [
        "autoencoder.compile(optimizer='sgd', loss='mse')"
      ],
      "metadata": {
        "id": "mBEcnVu3LYgQ"
      },
      "id": "mBEcnVu3LYgQ",
      "execution_count": null,
      "outputs": []
    },
    {
      "cell_type": "code",
      "source": [
        "autoencoder.fit(x=X_train, y=X_train,\n",
        "               epochs=100,\n",
        "               batch_size=64,\n",
        "               shuffle=True)"
      ],
      "metadata": {
        "colab": {
          "base_uri": "https://localhost:8080/"
        },
        "id": "H1J_6OxyRprE",
        "outputId": "0a020f9c-9079-4b68-ebf6-0aa4fd609a6a"
      },
      "id": "H1J_6OxyRprE",
      "execution_count": null,
      "outputs": [
        {
          "output_type": "stream",
          "name": "stdout",
          "text": [
            "Epoch 1/100\n",
            "6355/6355 [==============================] - 18s 2ms/step - loss: 1.0665\n",
            "Epoch 2/100\n",
            "6355/6355 [==============================] - 12s 2ms/step - loss: 0.9913\n",
            "Epoch 3/100\n",
            "6355/6355 [==============================] - 12s 2ms/step - loss: 0.9668\n",
            "Epoch 4/100\n",
            "6355/6355 [==============================] - 12s 2ms/step - loss: 0.9566\n",
            "Epoch 5/100\n",
            "6355/6355 [==============================] - 12s 2ms/step - loss: 0.9506\n",
            "Epoch 6/100\n",
            "6355/6355 [==============================] - 12s 2ms/step - loss: 0.9439\n",
            "Epoch 7/100\n",
            "6355/6355 [==============================] - 12s 2ms/step - loss: 0.9354\n",
            "Epoch 8/100\n",
            "6355/6355 [==============================] - 12s 2ms/step - loss: 0.9295\n",
            "Epoch 9/100\n",
            "6355/6355 [==============================] - 12s 2ms/step - loss: 0.9251\n",
            "Epoch 10/100\n",
            "6355/6355 [==============================] - 13s 2ms/step - loss: 0.9218\n",
            "Epoch 11/100\n",
            "6355/6355 [==============================] - 11s 2ms/step - loss: 0.9174\n",
            "Epoch 12/100\n",
            "6355/6355 [==============================] - 11s 2ms/step - loss: 0.9118\n",
            "Epoch 13/100\n",
            "6355/6355 [==============================] - 11s 2ms/step - loss: 0.9066\n",
            "Epoch 14/100\n",
            "6355/6355 [==============================] - 11s 2ms/step - loss: 0.9035\n",
            "Epoch 15/100\n",
            "6355/6355 [==============================] - 11s 2ms/step - loss: 0.9013\n",
            "Epoch 16/100\n",
            "6355/6355 [==============================] - 12s 2ms/step - loss: 0.8995\n",
            "Epoch 17/100\n",
            "6355/6355 [==============================] - 11s 2ms/step - loss: 0.8981\n",
            "Epoch 18/100\n",
            "6355/6355 [==============================] - 12s 2ms/step - loss: 0.8968\n",
            "Epoch 19/100\n",
            "6355/6355 [==============================] - 11s 2ms/step - loss: 0.8955\n",
            "Epoch 20/100\n",
            "6355/6355 [==============================] - 11s 2ms/step - loss: 0.8944\n",
            "Epoch 21/100\n",
            "6355/6355 [==============================] - 11s 2ms/step - loss: 0.8933\n",
            "Epoch 22/100\n",
            "6355/6355 [==============================] - 11s 2ms/step - loss: 0.8922\n",
            "Epoch 23/100\n",
            "6355/6355 [==============================] - 12s 2ms/step - loss: 0.8912\n",
            "Epoch 24/100\n",
            "6355/6355 [==============================] - 11s 2ms/step - loss: 0.8903\n",
            "Epoch 25/100\n",
            "6355/6355 [==============================] - 11s 2ms/step - loss: 0.8894\n",
            "Epoch 26/100\n",
            "6355/6355 [==============================] - 11s 2ms/step - loss: 0.8886\n",
            "Epoch 27/100\n",
            "6355/6355 [==============================] - 12s 2ms/step - loss: 0.8877\n",
            "Epoch 28/100\n",
            "6355/6355 [==============================] - 12s 2ms/step - loss: 0.8868\n",
            "Epoch 29/100\n",
            "6355/6355 [==============================] - 17s 3ms/step - loss: 0.8858\n",
            "Epoch 30/100\n",
            "6355/6355 [==============================] - 12s 2ms/step - loss: 0.8847\n",
            "Epoch 31/100\n",
            "6355/6355 [==============================] - 11s 2ms/step - loss: 0.8838\n",
            "Epoch 32/100\n",
            "6355/6355 [==============================] - 11s 2ms/step - loss: 0.8829\n",
            "Epoch 33/100\n",
            "6355/6355 [==============================] - 11s 2ms/step - loss: 0.8819\n",
            "Epoch 34/100\n",
            "6355/6355 [==============================] - 12s 2ms/step - loss: 0.8806\n",
            "Epoch 35/100\n",
            "6355/6355 [==============================] - 11s 2ms/step - loss: 0.8795\n",
            "Epoch 36/100\n",
            "6355/6355 [==============================] - 11s 2ms/step - loss: 0.8784\n",
            "Epoch 37/100\n",
            "6355/6355 [==============================] - 11s 2ms/step - loss: 0.8774\n",
            "Epoch 38/100\n",
            "6355/6355 [==============================] - 11s 2ms/step - loss: 0.8766\n",
            "Epoch 39/100\n",
            "6355/6355 [==============================] - 11s 2ms/step - loss: 0.8759\n",
            "Epoch 40/100\n",
            "6355/6355 [==============================] - 11s 2ms/step - loss: 0.8753\n",
            "Epoch 41/100\n",
            "6355/6355 [==============================] - 11s 2ms/step - loss: 0.8748\n",
            "Epoch 42/100\n",
            "6355/6355 [==============================] - 11s 2ms/step - loss: 0.8743\n",
            "Epoch 43/100\n",
            "6355/6355 [==============================] - 11s 2ms/step - loss: 0.8739\n",
            "Epoch 44/100\n",
            "6355/6355 [==============================] - 11s 2ms/step - loss: 0.8733\n",
            "Epoch 45/100\n",
            "6355/6355 [==============================] - 11s 2ms/step - loss: 0.8729\n",
            "Epoch 46/100\n",
            "6355/6355 [==============================] - 11s 2ms/step - loss: 0.8725\n",
            "Epoch 47/100\n",
            "6355/6355 [==============================] - 11s 2ms/step - loss: 0.8722\n",
            "Epoch 48/100\n",
            "6355/6355 [==============================] - 11s 2ms/step - loss: 0.8720\n",
            "Epoch 49/100\n",
            "6355/6355 [==============================] - 11s 2ms/step - loss: 0.8717\n",
            "Epoch 50/100\n",
            "6355/6355 [==============================] - 12s 2ms/step - loss: 0.8715\n",
            "Epoch 51/100\n",
            "6355/6355 [==============================] - 11s 2ms/step - loss: 0.8713\n",
            "Epoch 52/100\n",
            "6355/6355 [==============================] - 11s 2ms/step - loss: 0.8711\n",
            "Epoch 53/100\n",
            "6355/6355 [==============================] - 11s 2ms/step - loss: 0.8710\n",
            "Epoch 54/100\n",
            "6355/6355 [==============================] - 11s 2ms/step - loss: 0.8708\n",
            "Epoch 55/100\n",
            "6355/6355 [==============================] - 11s 2ms/step - loss: 0.8706\n",
            "Epoch 56/100\n",
            "6355/6355 [==============================] - 11s 2ms/step - loss: 0.8702\n",
            "Epoch 57/100\n",
            "6355/6355 [==============================] - 11s 2ms/step - loss: 0.8699\n",
            "Epoch 58/100\n",
            "6355/6355 [==============================] - 11s 2ms/step - loss: 0.8697\n",
            "Epoch 59/100\n",
            "6355/6355 [==============================] - 11s 2ms/step - loss: 0.8695\n",
            "Epoch 60/100\n",
            "6355/6355 [==============================] - 11s 2ms/step - loss: 0.8694\n",
            "Epoch 61/100\n",
            "6355/6355 [==============================] - 11s 2ms/step - loss: 0.8693\n",
            "Epoch 62/100\n",
            "6355/6355 [==============================] - 11s 2ms/step - loss: 0.8692\n",
            "Epoch 63/100\n",
            "6355/6355 [==============================] - 11s 2ms/step - loss: 0.8691\n",
            "Epoch 64/100\n",
            "6355/6355 [==============================] - 11s 2ms/step - loss: 0.8690\n",
            "Epoch 65/100\n",
            "6355/6355 [==============================] - 11s 2ms/step - loss: 0.8689\n",
            "Epoch 66/100\n",
            "6355/6355 [==============================] - 12s 2ms/step - loss: 0.8688\n",
            "Epoch 67/100\n",
            "6355/6355 [==============================] - 11s 2ms/step - loss: 0.8687\n",
            "Epoch 68/100\n",
            "6355/6355 [==============================] - 11s 2ms/step - loss: 0.8686\n",
            "Epoch 69/100\n",
            "6355/6355 [==============================] - 11s 2ms/step - loss: 0.8685\n",
            "Epoch 70/100\n",
            "6355/6355 [==============================] - 11s 2ms/step - loss: 0.8684\n",
            "Epoch 71/100\n",
            "6355/6355 [==============================] - 12s 2ms/step - loss: 0.8683\n",
            "Epoch 72/100\n",
            "6355/6355 [==============================] - 12s 2ms/step - loss: 0.8683\n",
            "Epoch 73/100\n",
            "6355/6355 [==============================] - 12s 2ms/step - loss: 0.8682\n",
            "Epoch 74/100\n",
            "6355/6355 [==============================] - 12s 2ms/step - loss: 0.8682\n",
            "Epoch 75/100\n",
            "6355/6355 [==============================] - 11s 2ms/step - loss: 0.8681\n",
            "Epoch 76/100\n",
            "6355/6355 [==============================] - 12s 2ms/step - loss: 0.8680\n",
            "Epoch 77/100\n",
            "6355/6355 [==============================] - 11s 2ms/step - loss: 0.8680\n",
            "Epoch 78/100\n",
            "6355/6355 [==============================] - 11s 2ms/step - loss: 0.8679\n",
            "Epoch 79/100\n",
            "6355/6355 [==============================] - 11s 2ms/step - loss: 0.8679\n",
            "Epoch 80/100\n",
            "6355/6355 [==============================] - 11s 2ms/step - loss: 0.8678\n",
            "Epoch 81/100\n",
            "6355/6355 [==============================] - 12s 2ms/step - loss: 0.8678\n",
            "Epoch 82/100\n",
            "6355/6355 [==============================] - 13s 2ms/step - loss: 0.8677\n",
            "Epoch 83/100\n",
            "6355/6355 [==============================] - 11s 2ms/step - loss: 0.8677\n",
            "Epoch 84/100\n",
            "6355/6355 [==============================] - 11s 2ms/step - loss: 0.8676\n",
            "Epoch 85/100\n",
            "6355/6355 [==============================] - 11s 2ms/step - loss: 0.8676\n",
            "Epoch 86/100\n",
            "6355/6355 [==============================] - 11s 2ms/step - loss: 0.8675\n",
            "Epoch 87/100\n",
            "6355/6355 [==============================] - 11s 2ms/step - loss: 0.8675\n",
            "Epoch 88/100\n",
            "6355/6355 [==============================] - 11s 2ms/step - loss: 0.8674\n",
            "Epoch 89/100\n",
            "6355/6355 [==============================] - 11s 2ms/step - loss: 0.8674\n",
            "Epoch 90/100\n",
            "6355/6355 [==============================] - 11s 2ms/step - loss: 0.8674\n",
            "Epoch 91/100\n",
            "6355/6355 [==============================] - 11s 2ms/step - loss: 0.8673\n",
            "Epoch 92/100\n",
            "6355/6355 [==============================] - 11s 2ms/step - loss: 0.8672\n",
            "Epoch 93/100\n",
            "6355/6355 [==============================] - 11s 2ms/step - loss: 0.8671\n",
            "Epoch 94/100\n",
            "6355/6355 [==============================] - 11s 2ms/step - loss: 0.8671\n",
            "Epoch 95/100\n",
            "6355/6355 [==============================] - 11s 2ms/step - loss: 0.8671\n",
            "Epoch 96/100\n",
            "6355/6355 [==============================] - 11s 2ms/step - loss: 0.8670\n",
            "Epoch 97/100\n",
            "6355/6355 [==============================] - 11s 2ms/step - loss: 0.8670\n",
            "Epoch 98/100\n",
            "6355/6355 [==============================] - 13s 2ms/step - loss: 0.8670\n",
            "Epoch 99/100\n",
            "6355/6355 [==============================] - 11s 2ms/step - loss: 0.8669\n",
            "Epoch 100/100\n",
            "6355/6355 [==============================] - 11s 2ms/step - loss: 0.8669\n"
          ]
        },
        {
          "output_type": "execute_result",
          "data": {
            "text/plain": [
              "<keras.callbacks.History at 0x7fe909cb3ed0>"
            ]
          },
          "metadata": {},
          "execution_count": 21
        }
      ]
    },
    {
      "cell_type": "code",
      "source": [
        "from keras import Sequential\n",
        "\n",
        "X_train_ae = encoder.predict(X_train)\n",
        "X_test_ae = encoder.predict(X_test)"
      ],
      "metadata": {
        "colab": {
          "base_uri": "https://localhost:8080/"
        },
        "id": "UMAPnAnrRpow",
        "outputId": "67e48bb1-1ced-4923-a113-7e17b685091a"
      },
      "id": "UMAPnAnrRpow",
      "execution_count": null,
      "outputs": [
        {
          "output_type": "stream",
          "name": "stdout",
          "text": [
            "12710/12710 [==============================] - 17s 1ms/step\n",
            "5447/5447 [==============================] - 8s 1ms/step\n"
          ]
        }
      ]
    },
    {
      "cell_type": "markdown",
      "id": "56413dc6",
      "metadata": {
        "id": "56413dc6"
      },
      "source": [
        "## Classification\n",
        "\n",
        "You will use a Random Forest classifier with 100 trees for the classification model (using Scikit-learn). Leave all other hyperparameters as their default values. You will train 3 separate random forest classifiers with 1) input data transformed using PCA, 2) input data transformed using autoencoder, 3) no dimensionality reduction (original data attributes)."
      ]
    },
    {
      "cell_type": "code",
      "execution_count": null,
      "id": "f284e774",
      "metadata": {
        "id": "f284e774"
      },
      "outputs": [],
      "source": [
        "# YOUR CODE HERE\n",
        "from sklearn import ensemble\n",
        "from sklearn.metrics import accuracy_score"
      ]
    },
    {
      "cell_type": "code",
      "source": [
        "rf_pca = ensemble.RandomForestClassifier(n_estimators=100)\n",
        "rf_pca.fit(X_train_pca, y_train)"
      ],
      "metadata": {
        "colab": {
          "base_uri": "https://localhost:8080/"
        },
        "id": "KxWnCDYXZIqC",
        "outputId": "9079c7ae-0541-4ac5-b90e-e217c3ee18c6"
      },
      "id": "KxWnCDYXZIqC",
      "execution_count": null,
      "outputs": [
        {
          "output_type": "execute_result",
          "data": {
            "text/plain": [
              "RandomForestClassifier()"
            ]
          },
          "metadata": {},
          "execution_count": 24
        }
      ]
    },
    {
      "cell_type": "code",
      "source": [
        "rf_ae = ensemble.RandomForestClassifier(n_estimators=100)\n",
        "rf_ae.fit(X_train_ae, y_train)"
      ],
      "metadata": {
        "colab": {
          "base_uri": "https://localhost:8080/"
        },
        "id": "0VRb42mBZIKA",
        "outputId": "a13feec4-b679-4d65-a728-bd0ce7915ada"
      },
      "id": "0VRb42mBZIKA",
      "execution_count": null,
      "outputs": [
        {
          "output_type": "execute_result",
          "data": {
            "text/plain": [
              "RandomForestClassifier()"
            ]
          },
          "metadata": {},
          "execution_count": 25
        }
      ]
    },
    {
      "cell_type": "code",
      "source": [
        "rf = ensemble.RandomForestClassifier(n_estimators=100)\n",
        "rf.fit(X_train, y_train)"
      ],
      "metadata": {
        "colab": {
          "base_uri": "https://localhost:8080/"
        },
        "id": "FAHUW7mXZIDy",
        "outputId": "8eb77412-d80c-465a-e8d4-98db260f5d58"
      },
      "id": "FAHUW7mXZIDy",
      "execution_count": null,
      "outputs": [
        {
          "output_type": "execute_result",
          "data": {
            "text/plain": [
              "RandomForestClassifier()"
            ]
          },
          "metadata": {},
          "execution_count": 26
        }
      ]
    },
    {
      "cell_type": "markdown",
      "id": "b5f713eb",
      "metadata": {
        "id": "b5f713eb"
      },
      "source": [
        "## Evaluation\n",
        "\n",
        "Your final model evaluation should be performed on the test set. You will compare the results of the two dimensionality reduction + Random Forest methods (PCA + RF, Autoencoder + RF) as well as a baseline Random Forest classifier that does not use any dimensionality reduction (the original attributes will be the input feature vector). For each of the 3 methods, print the classification report (including class-wise precision, recall, F1 + overall accuracy) and plot the confusion matrix. "
      ]
    },
    {
      "cell_type": "code",
      "source": [
        "# YOUR CODE HERE\n",
        "from sklearn.metrics import classification_report"
      ],
      "metadata": {
        "id": "3vLHNeT0ZyK1"
      },
      "id": "3vLHNeT0ZyK1",
      "execution_count": null,
      "outputs": []
    },
    {
      "cell_type": "code",
      "source": [
        "y_pred_rf_pca = rf_pca.predict(X_test_pca)\n",
        "y_pred_rf_ae = rf_ae.predict(X_test_ae)\n",
        "y_pred_rf = rf.predict(X_test)"
      ],
      "metadata": {
        "id": "D50KTgzpZyCv"
      },
      "id": "D50KTgzpZyCv",
      "execution_count": null,
      "outputs": []
    },
    {
      "cell_type": "code",
      "source": [
        "print(classification_report(y_test, y_pred_rf_pca))"
      ],
      "metadata": {
        "colab": {
          "base_uri": "https://localhost:8080/"
        },
        "id": "-CKZ22X-ZyAZ",
        "outputId": "2571abe0-3d8f-4fad-cf5f-831f87bb160c"
      },
      "id": "-CKZ22X-ZyAZ",
      "execution_count": null,
      "outputs": [
        {
          "output_type": "stream",
          "name": "stdout",
          "text": [
            "              precision    recall  f1-score   support\n",
            "\n",
            "           1       0.77      0.72      0.74     63498\n",
            "           2       0.77      0.84      0.80     85198\n",
            "           3       0.73      0.79      0.76     10581\n",
            "           4       0.73      0.53      0.61       822\n",
            "           5       0.71      0.31      0.43      2850\n",
            "           6       0.64      0.50      0.57      5229\n",
            "           7       0.83      0.65      0.73      6126\n",
            "\n",
            "    accuracy                           0.76    174304\n",
            "   macro avg       0.74      0.62      0.66    174304\n",
            "weighted avg       0.76      0.76      0.76    174304\n",
            "\n"
          ]
        }
      ]
    },
    {
      "cell_type": "code",
      "source": [
        "print(classification_report(y_test, y_pred_rf_ae))"
      ],
      "metadata": {
        "colab": {
          "base_uri": "https://localhost:8080/"
        },
        "id": "HrKYPVXKZx-D",
        "outputId": "ecb859ed-b426-4799-f844-20e71c16e8c1"
      },
      "id": "HrKYPVXKZx-D",
      "execution_count": null,
      "outputs": [
        {
          "output_type": "stream",
          "name": "stdout",
          "text": [
            "              precision    recall  f1-score   support\n",
            "\n",
            "           1       0.72      0.68      0.70     63498\n",
            "           2       0.73      0.80      0.76     85198\n",
            "           3       0.63      0.70      0.66     10581\n",
            "           4       0.45      0.22      0.30       822\n",
            "           5       0.49      0.21      0.29      2850\n",
            "           6       0.52      0.36      0.43      5229\n",
            "           7       0.75      0.60      0.67      6126\n",
            "\n",
            "    accuracy                           0.72    174304\n",
            "   macro avg       0.62      0.51      0.55    174304\n",
            "weighted avg       0.71      0.72      0.71    174304\n",
            "\n"
          ]
        }
      ]
    },
    {
      "cell_type": "code",
      "source": [
        "print(classification_report(y_test, y_pred_rf))"
      ],
      "metadata": {
        "colab": {
          "base_uri": "https://localhost:8080/"
        },
        "id": "dSPT1PIKZx7w",
        "outputId": "b24bff7b-0987-4f25-e69a-5c54019baacb"
      },
      "id": "dSPT1PIKZx7w",
      "execution_count": null,
      "outputs": [
        {
          "output_type": "stream",
          "name": "stdout",
          "text": [
            "              precision    recall  f1-score   support\n",
            "\n",
            "           1       0.96      0.94      0.95     63498\n",
            "           2       0.95      0.97      0.96     85198\n",
            "           3       0.94      0.96      0.95     10581\n",
            "           4       0.92      0.83      0.87       822\n",
            "           5       0.95      0.77      0.85      2850\n",
            "           6       0.93      0.90      0.91      5229\n",
            "           7       0.97      0.95      0.96      6126\n",
            "\n",
            "    accuracy                           0.95    174304\n",
            "   macro avg       0.95      0.90      0.92    174304\n",
            "weighted avg       0.95      0.95      0.95    174304\n",
            "\n"
          ]
        }
      ]
    },
    {
      "cell_type": "code",
      "source": [
        "from sklearn.metrics import ConfusionMatrixDisplay"
      ],
      "metadata": {
        "id": "wADIkZewZx5G"
      },
      "id": "wADIkZewZx5G",
      "execution_count": null,
      "outputs": []
    },
    {
      "cell_type": "code",
      "source": [
        "ConfusionMatrixDisplay.from_estimator(\n",
        "    rf_pca, X_test_pca, y_test, xticks_rotation=\"vertical\"\n",
        ")\n",
        "\n",
        "plt.tight_layout()\n",
        "plt.show()"
      ],
      "metadata": {
        "colab": {
          "base_uri": "https://localhost:8080/",
          "height": 297
        },
        "id": "voAcN01ZZx2h",
        "outputId": "b50b8163-6de6-476a-f1b3-9a397ed56354"
      },
      "id": "voAcN01ZZx2h",
      "execution_count": null,
      "outputs": [
        {
          "output_type": "display_data",
          "data": {
            "text/plain": [
              "<Figure size 432x288 with 2 Axes>"
            ],
            "image/png": "[encoded data removed]"
          },
          "metadata": {
            "needs_background": "light"
          }
        }
      ]
    },
    {
      "cell_type": "code",
      "source": [
        "ConfusionMatrixDisplay.from_estimator(\n",
        "    rf_ae, X_test_ae, y_test, xticks_rotation=\"vertical\"\n",
        ")\n",
        "\n",
        "plt.tight_layout()\n",
        "plt.show()"
      ],
      "metadata": {
        "colab": {
          "base_uri": "https://localhost:8080/",
          "height": 297
        },
        "id": "IK9dGMlJaM8J",
        "outputId": "da1a76d6-105f-451d-fe4a-561fed3fb2ec"
      },
      "id": "IK9dGMlJaM8J",
      "execution_count": null,
      "outputs": [
        {
          "output_type": "display_data",
          "data": {
            "text/plain": [
              "<Figure size 432x288 with 2 Axes>"
            ],
            "image/png": "[encoded data removed]"
          },
          "metadata": {
            "needs_background": "light"
          }
        }
      ]
    },
    {
      "cell_type": "code",
      "execution_count": null,
      "id": "2986a2bc",
      "metadata": {
        "id": "2986a2bc",
        "colab": {
          "base_uri": "https://localhost:8080/",
          "height": 297
        },
        "outputId": "4ff318aa-52c3-4a71-b20b-7b002de34c5b"
      },
      "outputs": [
        {
          "output_type": "display_data",
          "data": {
            "text/plain": [
              "<Figure size 432x288 with 2 Axes>"
            ],
            "image/png": "[encoded data removed]"
          },
          "metadata": {
            "needs_background": "light"
          }
        }
      ],
      "source": [
        "ConfusionMatrixDisplay.from_estimator(\n",
        "    rf, X_test, y_test, xticks_rotation=\"vertical\"\n",
        ")\n",
        "\n",
        "plt.tight_layout()\n",
        "plt.show()"
      ]
    },
    {
      "cell_type": "markdown",
      "source": [
        "Discussion:\n",
        "Random forest without dimensionality reduction gives the best performance(accuracy = 0.95) followed by dimensionality reduction of PCA with RF(accuracy = 0.76) followed by dimensionality reduction of autoencoder with RF (accuracy = 0.72)"
      ],
      "metadata": {
        "id": "HNYe3sRsorwr"
      },
      "id": "HNYe3sRsorwr"
    },
    {
      "cell_type": "code",
      "source": [],
      "metadata": {
        "id": "gSYcBxF0on-y"
      },
      "id": "gSYcBxF0on-y",
      "execution_count": null,
      "outputs": []
    }
  ],
  "metadata": {
    "kernelspec": {
      "display_name": "Python 3 (ipykernel)",
      "language": "python",
      "name": "python3"
    },
    "language_info": {
      "codemirror_mode": {
        "name": "ipython",
        "version": 3
      },
      "file_extension": ".py",
      "mimetype": "text/x-python",
      "name": "python",
      "nbconvert_exporter": "python",
      "pygments_lexer": "ipython3",
      "version": "3.9.13"
    },
    "colab": {
      "provenance": [],
      "collapsed_sections": []
    }
  },
  "nbformat": 4,
  "nbformat_minor": 5
}